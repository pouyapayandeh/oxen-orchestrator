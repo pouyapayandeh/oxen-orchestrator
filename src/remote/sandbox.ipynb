{
 "cells": [
  {
   "cell_type": "code",
   "execution_count": 1,
   "metadata": {},
   "outputs": [],
   "source": [
    "import sys\n",
    "import logging\n",
    "import argparse\n",
    "import os\n",
    "import time\n",
    "from os import path\n",
    "import subprocess\n",
    "import shutil\n",
    "import asyncio\n",
    "from datetime import datetime\n",
    "from remote_daemons import Daemon, Wallet, StorageService\n",
    "\n",
    "logger = logging.getLogger(__name__)\n",
    "logging.basicConfig(level=logging.INFO,format='%(asctime)s %(message)s', datefmt='%m/%d/%Y %I:%M:%S %p')\n",
    "\n"
   ]
  },
  {
   "cell_type": "code",
   "execution_count": 2,
   "metadata": {},
   "outputs": [],
   "source": [
    "def wait_for(callback, timeout=10):\n",
    "    expires = time.time() + timeout\n",
    "    while True:\n",
    "        try:\n",
    "            if callback():\n",
    "                return\n",
    "        except:\n",
    "            pass\n",
    "        if time.time() >= expires:\n",
    "            raise RuntimeError(\"task timeout expired\")\n",
    "        time.sleep(.25)\n",
    "\n",
    "def vprint(*args, timestamp=True, **kwargs):\n",
    "    verbose = True\n",
    "    if verbose:\n",
    "        if timestamp:\n",
    "            print(datetime.now(), end=\" \")\n",
    "        print(*args, **kwargs)\n",
    "class SNNetwork:\n",
    "    def __init__(self, datadir, *, binpath='../../build/bin',ss_binpath=\".\", sns=[], nodes=[],phase = 0):\n",
    "        self.datadir = datadir\n",
    "        # if not os.path.exists(self.datadir):\n",
    "        #     os.makedirs(self.datadir)\n",
    "        self.binpath = binpath\n",
    "        self.ss_binpath = ss_binpath\n",
    "\n",
    "\n",
    "        vprint(\"Using '{}' for data files and logs\".format(datadir))\n",
    "\n",
    "        nodeopts ={\"oxend\":self.binpath+'/oxend',\"p2p_port\":1000,\"rpc_port\":1001,\n",
    "                \"zmq_port\":1002,\"qnet_port\":1003,\"ss_port\":1004,\"datadir\":\"oxen/datadir\"} \n",
    "        # dict(oxend=, datadir=datadir)\n",
    "\n",
    "        self.sns = [Daemon(service_node=True,listen_ip=ip, **nodeopts) for ip in sns]\n",
    "        self.nodes = [Daemon(listen_ip=ip,**nodeopts) for ip in nodes]\n",
    "        \n",
    "        self.all_nodes = self.sns + self.nodes\n",
    "\n",
    "        self.wallets = []\n",
    "        for idx,name in enumerate(('Alice', 'Bob', 'Mike')):\n",
    "            self.wallets.append(Wallet(\n",
    "                node=self.nodes[idx % len(self.nodes)],\n",
    "                name=name,\n",
    "                listen_ip=nodes[idx % len(self.nodes)],\n",
    "                rpc_port=2001,\n",
    "                rpc_wallet=self.binpath+'/oxen-wallet-rpc',\n",
    "                datadir=datadir))\n",
    "\n",
    "        self.alice, self.bob, self.mike = self.wallets\n",
    "\n",
    "        # OMQ_path = \"tcp://{}:{}\".format(self.sns[0].listen_ip,self.sns[0].zmq_port)\n",
    "        self.ss = [StorageService(storage=self.ss_binpath+'/oxen-storage', datadir=datadir,oxend_ip=sn.remote_ip,\n",
    "                                  listen_ip =sn.remote_ip,\n",
    "                                oxen_rpc=\"ipc:///root/\"+sn.path+\"/devnet/oxend.sock\"\n",
    "                                ,rpc_port=1005,omq_port=1006,verbose=True) \n",
    "                for sn in self.sns]\n",
    "        \n",
    "        if phase > 0:\n",
    "            for node in self.all_nodes:\n",
    "                node.client = True\n",
    "            for wallet in self.wallets:\n",
    "                wallet.client = True\n",
    "        if phase > 3:\n",
    "            for ss in self.ss:\n",
    "                ss.client = True\n",
    "        if phase <= 0:\n",
    "            # Interconnections\n",
    "            for i in range(len(self.all_nodes)):\n",
    "                for j in (2, 3, 5, 7, 11):\n",
    "                    k = (i + j) % len(self.all_nodes)\n",
    "                    if i != k:\n",
    "                        self.all_nodes[i].add_peer(self.all_nodes[k])\n",
    "\n",
    "            vprint(\"Starting new oxend service nodes with RPC on {} ports\".format(self.sns[0].listen_ip), end=\"\")\n",
    "            for sn in self.sns:\n",
    "                vprint(\" {}\".format(sn.rpc_port), end=\"\", flush=True, timestamp=False)\n",
    "                sn.start()\n",
    "            vprint(timestamp=False)\n",
    "            vprint(\"Starting new regular oxend nodes with RPC on {} ports\".format(self.nodes[0].listen_ip), end=\"\")\n",
    "            for d in self.nodes:\n",
    "                vprint(\" {}\".format(d.rpc_port), end=\"\", flush=True, timestamp=False)\n",
    "                d.start()\n",
    "            vprint(timestamp=False)\n",
    "\n",
    "            vprint(\"Waiting for all oxend's to get ready\")\n",
    "            for d in self.all_nodes:\n",
    "                d.wait_for_json_rpc(\"get_info\")\n",
    "\n",
    "        \n",
    "        if phase <= 1:\n",
    "            vprint(\"Oxends are ready. Starting wallets\")\n",
    "            for w in self.wallets:\n",
    "                vprint(\"Starting new RPC wallet {w.name} at {w.listen_ip}:{w.rpc_port}\".format(w=w))\n",
    "                w.start()\n",
    "            for w in self.wallets:\n",
    "                w.ready()\n",
    "                w.refresh()\n",
    "                vprint(\"Wallet {w.name} is ready: {a}\".format(w=w, a=w.address()))\n",
    "\n",
    "            for w in self.wallets:\n",
    "                w.wait_for_json_rpc(\"refresh\")\n",
    "\n",
    "        # Mine some blocks; we need 100 per SN registration, and we can nearly 600 on fakenet before\n",
    "        # it hits HF16 and kills mining rewards.  This lets us submit the first 5 SN registrations a\n",
    "        # SN (at height 40, which is the earliest we can submit them without getting an occasional\n",
    "        # spurious \"Not enough outputs to use\" error).\n",
    "        # to unlock and the rest to have enough unlocked outputs for mixins), then more some more to\n",
    "        # earn SN rewards.  We need 100 per SN registration, and each mined block gives us an input\n",
    "        # of 18.9, which means each registration requires 6 inputs.  Thus we need a bare minimum of\n",
    "        # 6(N-5) blocks, plus the 30 lock time on coinbase TXes = 6N more blocks (after the initial\n",
    "        # 5 registrations).\n",
    "        # return\n",
    "        if phase <=2:\n",
    "            self.mine(100)\n",
    "            for w in self.wallets:\n",
    "                w.wait_for_json_rpc(\"refresh\")\n",
    "            vprint(\"Submitting first round of service node registrations: \", end=\"\", flush=True)\n",
    "            for sn in self.sns[0:5]:\n",
    "                self.mike.register_sn(sn)\n",
    "                vprint(\".\", end=\"\", flush=True, timestamp=False)\n",
    "            vprint(timestamp=False)\n",
    "            if len(self.sns) > 5:\n",
    "                vprint(\"Going back to mining\", flush=True)\n",
    "\n",
    "                self.mine(6*len(self.sns))\n",
    "\n",
    "                self.print_wallet_balances()\n",
    "\n",
    "                vprint(\"Submitting more service node registrations: \", end=\"\", flush=True)\n",
    "                for sn in self.sns[5:-1]:\n",
    "                    self.mike.register_sn(sn)\n",
    "                    vprint(\".\", end=\"\", flush=True, timestamp=False)\n",
    "                vprint(timestamp=False)\n",
    "                vprint(\"Done.\")\n",
    "\n",
    "            self.print_wallet_balances()\n",
    "\n",
    "            vprint(\"Mining 40 blocks (registrations + blink quorum lag) and waiting for nodes to sync\")\n",
    "            self.sync_nodes(self.mine(40))\n",
    "\n",
    "            self.print_wallet_balances()\n",
    "        if phase <=3:\n",
    "            vprint(\"Starting Storage Serices\")\n",
    "\n",
    "\n",
    "            for s in self.ss:\n",
    "                vprint(\"Storage @ {}\".format(s.rpc_port), flush=True, timestamp=False)\n",
    "                s.start()\n",
    "\n",
    "            vprint(\"Sending fake lokinet/ss pings\")\n",
    "            for sn in self.sns:\n",
    "                sn.ping()\n",
    "        \n",
    "        if phase <=4:\n",
    "            all_service_nodes_proofed = lambda sn: all(x['quorumnet_port'] > 0 for x in\n",
    "                    sn.json_rpc(\"get_n_service_nodes\", {\"fields\":{\"quorumnet_port\":True}}).json()['result']['service_node_states'])\n",
    "\n",
    "            vprint(\"Waiting for proofs to propagate: \", end=\"\", flush=True)\n",
    "            for sn in self.sns:\n",
    "                wait_for(lambda: all_service_nodes_proofed(sn), timeout=220)\n",
    "                vprint(\".\", end=\"\", flush=True, timestamp=False)\n",
    "            vprint(timestamp=False)\n",
    "            for sn in self.sns[-1:]:\n",
    "                self.mike.register_sn(sn)\n",
    "                vprint(\".\", end=\"\", flush=True, timestamp=False)\n",
    "            self.sync_nodes(self.mine(1))\n",
    "            time.sleep(10)\n",
    "            for sn in self.sns:\n",
    "                sn.send_uptime_proof()\n",
    "            vprint(\"Done.\")\n",
    "        if phase <=5:\n",
    "            vprint(\"Local Devnet SN network setup complete!\")\n",
    "            vprint(\"Communicate with daemon on ip: {} port: {}\".format(self.sns[0].listen_ip,self.sns[0].rpc_port))\n",
    "            configfile='config.py'\n",
    "            with open(configfile, 'w') as filetowrite:\n",
    "                filetowrite.write('#!/usr/bin/python3\\n# -*- coding: utf-8 -*-\\nlisten_ip=\\\"{}\\\"\\nlisten_port=\\\"{}\\\"\\nwallet_listen_ip=\\\"{}\\\"\\nwallet_listen_port=\\\"{}\\\"\\nwallet_address=\\\"{}\\\"\\nexternal_address=\\\"{}\\\"'.format(self.sns[0].listen_ip,self.sns[0].rpc_port,self.mike.listen_ip,self.mike.rpc_port,self.mike.address(),self.bob.address()))\n",
    "\n",
    "\n",
    "\n",
    "\n",
    "    def refresh_wallets(self, *, extra=[]):\n",
    "        vprint(\"Refreshing wallets\")\n",
    "        for w in self.wallets + extra:\n",
    "            w.refresh()\n",
    "        vprint(\"All wallets refreshed\")\n",
    "\n",
    "\n",
    "    def mine(self, blocks=None, wallet=None, *, sync=False):\n",
    "        \"\"\"Mine some blocks to the given wallet (or self.mike if None) on the wallet's daemon.\n",
    "        Returns the daemon's height after mining the blocks.  If blocks is omitted, mines enough to\n",
    "        confirm regular transfers (i.e. 10 blocks).  If sync is specified, sync all nodes and then\n",
    "        refresh all wallets after mining.\"\"\"\n",
    "        if wallet is None:\n",
    "            wallet = self.mike\n",
    "        if blocks is None:\n",
    "            blocks = 10\n",
    "        node = wallet.node\n",
    "        vprint(\"Mining {} blocks to wallet {.name}\".format(blocks, wallet))\n",
    "        start_height = node.height()\n",
    "        end_height = start_height + blocks\n",
    "        node.mine_blocks(blocks, wallet)\n",
    "        while node.rpc(\"/mining_status\").json()[\"active\"]:\n",
    "            height = node.height()\n",
    "            vprint(\"Mined {}/{}\".format(height, end_height))\n",
    "            time.sleep(0.05 if height >= end_height else 0.25)\n",
    "        height = node.height()\n",
    "        vprint(\"Mined {}/{}\".format(height, end_height))\n",
    "\n",
    "        if sync:\n",
    "            self.sync_nodes(height)\n",
    "            self.refresh_wallets()\n",
    "\n",
    "        return height\n",
    "\n",
    "\n",
    "    def sync_nodes(self, height=None, *, extra=[], timeout=10):\n",
    "        \"\"\"Waits for all nodes to reach the given height, typically invoked after mine()\"\"\"\n",
    "        nodes = self.all_nodes + extra\n",
    "        heights = [x.height() for x in nodes]\n",
    "        if height is None:\n",
    "            height = max(heights)\n",
    "        if min(heights) >= height:\n",
    "            vprint(\"All nodes already synced to height >= {}\".format(height))\n",
    "            return\n",
    "        vprint(\"Waiting for all nodes to sync to height {}\".format(height))\n",
    "        last = None\n",
    "        expiry = time.time() + timeout\n",
    "        while nodes and time.time() < expiry:\n",
    "            if heights[-1] < height:\n",
    "                heights[-1] = nodes[-1].height()\n",
    "            if heights[-1] >= height:\n",
    "                heights.pop()\n",
    "                nodes.pop()\n",
    "                last = None\n",
    "                continue\n",
    "            if heights[-1] != last:\n",
    "                vprint(\"waiting for {} [{} -> {}]\".format(nodes[-1].name, heights[-1], height))\n",
    "                last = heights[-1]\n",
    "            time.sleep(0.1)\n",
    "        if nodes:\n",
    "            raise RuntimeError(\"Timed out waiting for node syncing\")\n",
    "        vprint(\"All nodes synced to height {}\".format(height))\n",
    "\n",
    "\n",
    "    def sync(self, extra_nodes=[], extra_wallets=[]):\n",
    "        \"\"\"Synchronizes everything: waits for all nodes to sync, then refreshes all wallets.  Can be\n",
    "        given external wallets/nodes to sync.\"\"\"\n",
    "        self.sync_nodes(extra=extra_nodes)\n",
    "        self.refresh_wallets(extra=extra_wallets)\n",
    "\n",
    "\n",
    "    def print_wallet_balances(self):\n",
    "        \"\"\"Instructs the wallets to refresh and prints their balances (does nothing in non-verbose mode)\"\"\"\n",
    "        vprint(\"Balances:\")\n",
    "        for w in self.wallets:\n",
    "            b = w.balances(refresh=True)\n",
    "            vprint(\"    {:5s}: {:.9f} (total) with {:.9f} (unlocked)\".format(\n",
    "                w.name, b[0] * 1e-9, b[1] * 1e-9))\n",
    "\n",
    "\n",
    "    def __del__(self):\n",
    "        vprint(\"shutting down all nodes and wallets\") \n",
    "        for n in self.all_nodes:\n",
    "            n.terminate()\n",
    "        for w in self.wallets:\n",
    "            w.terminate()\n"
   ]
  },
  {
   "cell_type": "code",
   "execution_count": 3,
   "metadata": {},
   "outputs": [
    {
     "name": "stderr",
     "output_type": "stream",
     "text": [
      "[WARNING]: failed to patch stdout/stderr for fork-safety: 'OutStream' object\n",
      "has no attribute 'buffer'\n",
      "[WARNING]: failed to reconfigure stdout/stderr with custom encoding error\n",
      "handler: 'OutStream' object has no attribute 'reconfigure'\n"
     ]
    }
   ],
   "source": [
    "from ansible.parsing.dataloader import DataLoader\n",
    "from ansible.inventory.manager import InventoryManager\n",
    "from ssh_utils import connect\n",
    "from concurrent.futures import ALL_COMPLETED, ThreadPoolExecutor, wait\n",
    "\n",
    "def exec_on_host(server,cmd):\n",
    "    logger.info(f\"running {cmd} on {server}\")\n",
    "    client = connect(server)\n",
    "    _, stdout, _ = client.exec_command(cmd)\n",
    "    stdout.channel.recv_exit_status()\n",
    "    client.close()\n",
    "    \n",
    "inventory_file_name = '../../ansible/inventory/hosts'\n",
    "data_loader = DataLoader()\n",
    "inventory = InventoryManager(loader = data_loader,\n",
    "                            sources=[inventory_file_name])\n",
    "\n",
    "nodes = inventory.get_groups_dict()['nodes']\n",
    "service_nodes = inventory.get_groups_dict()['service_nodes']"
   ]
  },
  {
   "cell_type": "code",
   "execution_count": 4,
   "metadata": {},
   "outputs": [
    {
     "name": "stderr",
     "output_type": "stream",
     "text": [
      "05/08/2024 08:34:56 PM Clearing Data dirs\n",
      "05/08/2024 08:34:56 PM running pkill -9 oxen-wallet-rpc \n",
      "  pkill -9 oxend \n",
      " pkill -9 oxen-storage \n",
      "  rm -rf ~/oxen/datadir/* ~/oxen/datadirectory ~/datadirectory on 49.13.199.194\n",
      "05/08/2024 08:34:56 PM running pkill -9 oxen-wallet-rpc \n",
      "  pkill -9 oxend \n",
      " pkill -9 oxen-storage \n",
      "  rm -rf ~/oxen/datadir/* ~/oxen/datadirectory ~/datadirectory on 49.13.173.77\n",
      "05/08/2024 08:34:56 PM running pkill -9 oxen-wallet-rpc \n",
      "  pkill -9 oxend \n",
      " pkill -9 oxen-storage \n",
      "  rm -rf ~/oxen/datadir/* ~/oxen/datadirectory ~/datadirectory on 23.88.98.217\n",
      "05/08/2024 08:34:56 PM running pkill -9 oxen-wallet-rpc \n",
      "  pkill -9 oxend \n",
      " pkill -9 oxen-storage \n",
      "  rm -rf ~/oxen/datadir/* ~/oxen/datadirectory ~/datadirectory on 37.27.43.50\n",
      "05/08/2024 08:34:56 PM running pkill -9 oxen-wallet-rpc \n",
      "  pkill -9 oxend \n",
      " pkill -9 oxen-storage \n",
      "  rm -rf ~/oxen/datadir/* ~/oxen/datadirectory ~/datadirectory on 65.21.6.216\n",
      "05/08/2024 08:34:56 PM running pkill -9 oxen-wallet-rpc \n",
      "  pkill -9 oxend \n",
      " pkill -9 oxen-storage \n",
      "  rm -rf ~/oxen/datadir/* ~/oxen/datadirectory ~/datadirectory on 37.27.43.89\n",
      "05/08/2024 08:34:56 PM running pkill -9 oxen-wallet-rpc \n",
      "  pkill -9 oxend \n",
      " pkill -9 oxen-storage \n",
      "  rm -rf ~/oxen/datadir/* ~/oxen/datadirectory ~/datadirectory on 37.27.43.85\n",
      "05/08/2024 08:34:56 PM running pkill -9 oxen-wallet-rpc \n",
      "  pkill -9 oxend \n",
      " pkill -9 oxen-storage \n",
      "  rm -rf ~/oxen/datadir/* ~/oxen/datadirectory ~/datadirectory on 167.235.63.65\n",
      "05/08/2024 08:34:56 PM running pkill -9 oxen-wallet-rpc \n",
      "  pkill -9 oxend \n",
      " pkill -9 oxen-storage \n",
      "  rm -rf ~/oxen/datadir/* ~/oxen/datadirectory ~/datadirectory on 5.75.171.41\n",
      "05/08/2024 08:34:56 PM running pkill -9 oxen-wallet-rpc \n",
      "  pkill -9 oxend \n",
      " pkill -9 oxen-storage \n",
      "  rm -rf ~/oxen/datadir/* ~/oxen/datadirectory ~/datadirectory on 116.203.68.186\n",
      "05/08/2024 08:34:57 PM Connected (version 2.0, client OpenSSH_8.9p1)\n",
      "05/08/2024 08:34:57 PM Connected (version 2.0, client OpenSSH_8.9p1)\n",
      "05/08/2024 08:34:57 PM Connected (version 2.0, client OpenSSH_8.9p1)\n",
      "05/08/2024 08:34:57 PM Connected (version 2.0, client OpenSSH_8.9p1)\n",
      "05/08/2024 08:34:57 PM Connected (version 2.0, client OpenSSH_8.9p1)\n",
      "05/08/2024 08:34:57 PM Connected (version 2.0, client OpenSSH_8.9p1)\n",
      "05/08/2024 08:34:57 PM Connected (version 2.0, client OpenSSH_8.9p1)\n",
      "05/08/2024 08:34:57 PM Connected (version 2.0, client OpenSSH_8.9p1)\n",
      "05/08/2024 08:34:57 PM Connected (version 2.0, client OpenSSH_8.9p1)\n",
      "05/08/2024 08:34:57 PM Connected (version 2.0, client OpenSSH_8.9p1)\n",
      "05/08/2024 08:34:57 PM Authentication (publickey) failed.\n",
      "05/08/2024 08:34:57 PM Authentication (publickey) failed.\n",
      "05/08/2024 08:34:57 PM Authentication (publickey) failed.\n",
      "05/08/2024 08:34:57 PM Authentication (publickey) failed.\n",
      "05/08/2024 08:34:58 PM Authentication (publickey) failed.\n",
      "05/08/2024 08:34:58 PM Authentication (publickey) failed.\n",
      "05/08/2024 08:34:58 PM Authentication (publickey) failed.\n",
      "05/08/2024 08:34:58 PM Authentication (publickey) successful!\n",
      "05/08/2024 08:34:58 PM Authentication (publickey) successful!\n",
      "05/08/2024 08:34:58 PM Authentication (publickey) successful!\n",
      "05/08/2024 08:34:58 PM Authentication (publickey) successful!\n",
      "05/08/2024 08:34:58 PM Authentication (publickey) failed.\n",
      "05/08/2024 08:34:58 PM Authentication (publickey) failed.\n",
      "05/08/2024 08:34:58 PM Authentication (publickey) successful!\n",
      "05/08/2024 08:34:58 PM Authentication (publickey) successful!\n",
      "05/08/2024 08:34:58 PM Authentication (publickey) successful!\n",
      "05/08/2024 08:34:58 PM Authentication (publickey) failed.\n",
      "05/08/2024 08:34:58 PM Authentication (publickey) successful!\n",
      "05/08/2024 08:34:58 PM Authentication (publickey) successful!\n",
      "05/08/2024 08:34:58 PM Authentication (publickey) successful!\n",
      "05/08/2024 08:34:59 PM running pkill -9 oxen-wallet-rpc \n",
      "  pkill -9 oxend \n",
      " pkill -9 oxen-storage \n",
      "  rm -rf ~/oxen/datadir/* ~/oxen/datadirectory ~/datadirectory on 195.201.147.111\n",
      "05/08/2024 08:34:59 PM running pkill -9 oxen-wallet-rpc \n",
      "  pkill -9 oxend \n",
      " pkill -9 oxen-storage \n",
      "  rm -rf ~/oxen/datadir/* ~/oxen/datadirectory ~/datadirectory on 49.13.172.214\n",
      "05/08/2024 08:34:59 PM running pkill -9 oxen-wallet-rpc \n",
      "  pkill -9 oxend \n",
      " pkill -9 oxen-storage \n",
      "  rm -rf ~/oxen/datadir/* ~/oxen/datadirectory ~/datadirectory on 128.140.66.163\n",
      "05/08/2024 08:34:59 PM running pkill -9 oxen-wallet-rpc \n",
      "  pkill -9 oxend \n",
      " pkill -9 oxen-storage \n",
      "  rm -rf ~/oxen/datadir/* ~/oxen/datadirectory ~/datadirectory on 116.203.41.114\n",
      "05/08/2024 08:34:59 PM running pkill -9 oxen-wallet-rpc \n",
      "  pkill -9 oxend \n",
      " pkill -9 oxen-storage \n",
      "  rm -rf ~/oxen/datadir/* ~/oxen/datadirectory ~/datadirectory on 116.203.49.0\n",
      "05/08/2024 08:34:59 PM Connected (version 2.0, client OpenSSH_8.9p1)\n",
      "05/08/2024 08:34:59 PM Connected (version 2.0, client OpenSSH_8.9p1)\n",
      "05/08/2024 08:34:59 PM Connected (version 2.0, client OpenSSH_8.9p1)\n",
      "05/08/2024 08:34:59 PM Connected (version 2.0, client OpenSSH_8.9p1)\n",
      "05/08/2024 08:34:59 PM Connected (version 2.0, client OpenSSH_8.9p1)\n",
      "05/08/2024 08:35:00 PM Authentication (publickey) failed.\n",
      "05/08/2024 08:35:00 PM Authentication (publickey) failed.\n",
      "05/08/2024 08:35:00 PM Authentication (publickey) failed.\n",
      "05/08/2024 08:35:00 PM Authentication (publickey) failed.\n",
      "05/08/2024 08:35:00 PM Authentication (publickey) successful!\n",
      "05/08/2024 08:35:00 PM Authentication (publickey) successful!\n",
      "05/08/2024 08:35:00 PM Authentication (publickey) successful!\n",
      "05/08/2024 08:35:00 PM Authentication (publickey) successful!\n",
      "05/08/2024 08:35:00 PM Authentication (publickey) successful!\n",
      "05/08/2024 08:35:01 PM Waiting\n"
     ]
    }
   ],
   "source": [
    "\n",
    "\n",
    "\n",
    "\n",
    "logger.info(\"Clearing Data dirs\")\n",
    "servers = nodes + service_nodes\n",
    "cmd = \"pkill -9 oxen-wallet-rpc \\n  pkill -9 oxend \\n pkill -9 oxen-storage \\n  rm -rf ~/oxen/datadir/* ~/oxen/datadirectory ~/datadirectory\"\n",
    "executor = ThreadPoolExecutor(max_workers=10)\n",
    "\n",
    "futures = [executor.submit(exec_on_host,server,cmd)  for server in servers]\n",
    "done, not_done = wait(futures, return_when=ALL_COMPLETED)\n",
    "\n",
    "if os.path.isdir(\"logs\"):\n",
    "            shutil.rmtree(\"logs/\", ignore_errors=False, onerror=None)\n",
    "            \n",
    "logger.info(\"Waiting\")\n",
    "time.sleep(5)\n"
   ]
  },
  {
   "cell_type": "code",
   "execution_count": 5,
   "metadata": {},
   "outputs": [
    {
     "name": "stderr",
     "output_type": "stream",
     "text": [
      "05/08/2024 08:35:06 PM starting new SNN\n"
     ]
    },
    {
     "name": "stdout",
     "output_type": "stream",
     "text": [
      "['37.27.43.50', '65.21.6.216', '37.27.43.89', '37.27.43.85', '167.235.63.65', '5.75.171.41', '116.203.68.186', '195.201.147.111', '49.13.172.214', '128.140.66.163', '116.203.41.114', '116.203.49.0']\n",
      "2024-05-08 20:35:06.705915 Using 'oxen/datadir' for data files and logs\n",
      "oxen/oxen-storage-server/build/httpserver/oxen-storage 0.0.0.0 1005 --bind-ip=0.0.0.0 --data-dir=oxen/datadir/storage-37.27.43.50-1005 --oxend-rpc=ipc:///root/oxen/datadir/oxen-37.27.43.50-1001/devnet/oxend.sock --omq-port=1006\n",
      "oxen/oxen-storage-server/build/httpserver/oxen-storage 0.0.0.0 1005 --bind-ip=0.0.0.0 --data-dir=oxen/datadir/storage-65.21.6.216-1005 --oxend-rpc=ipc:///root/oxen/datadir/oxen-65.21.6.216-1001/devnet/oxend.sock --omq-port=1006\n",
      "oxen/oxen-storage-server/build/httpserver/oxen-storage 0.0.0.0 1005 --bind-ip=0.0.0.0 --data-dir=oxen/datadir/storage-37.27.43.89-1005 --oxend-rpc=ipc:///root/oxen/datadir/oxen-37.27.43.89-1001/devnet/oxend.sock --omq-port=1006\n",
      "oxen/oxen-storage-server/build/httpserver/oxen-storage 0.0.0.0 1005 --bind-ip=0.0.0.0 --data-dir=oxen/datadir/storage-37.27.43.85-1005 --oxend-rpc=ipc:///root/oxen/datadir/oxen-37.27.43.85-1001/devnet/oxend.sock --omq-port=1006\n",
      "oxen/oxen-storage-server/build/httpserver/oxen-storage 0.0.0.0 1005 --bind-ip=0.0.0.0 --data-dir=oxen/datadir/storage-167.235.63.65-1005 --oxend-rpc=ipc:///root/oxen/datadir/oxen-167.235.63.65-1001/devnet/oxend.sock --omq-port=1006\n",
      "oxen/oxen-storage-server/build/httpserver/oxen-storage 0.0.0.0 1005 --bind-ip=0.0.0.0 --data-dir=oxen/datadir/storage-5.75.171.41-1005 --oxend-rpc=ipc:///root/oxen/datadir/oxen-5.75.171.41-1001/devnet/oxend.sock --omq-port=1006\n",
      "oxen/oxen-storage-server/build/httpserver/oxen-storage 0.0.0.0 1005 --bind-ip=0.0.0.0 --data-dir=oxen/datadir/storage-116.203.68.186-1005 --oxend-rpc=ipc:///root/oxen/datadir/oxen-116.203.68.186-1001/devnet/oxend.sock --omq-port=1006\n",
      "oxen/oxen-storage-server/build/httpserver/oxen-storage 0.0.0.0 1005 --bind-ip=0.0.0.0 --data-dir=oxen/datadir/storage-195.201.147.111-1005 --oxend-rpc=ipc:///root/oxen/datadir/oxen-195.201.147.111-1001/devnet/oxend.sock --omq-port=1006\n",
      "oxen/oxen-storage-server/build/httpserver/oxen-storage 0.0.0.0 1005 --bind-ip=0.0.0.0 --data-dir=oxen/datadir/storage-49.13.172.214-1005 --oxend-rpc=ipc:///root/oxen/datadir/oxen-49.13.172.214-1001/devnet/oxend.sock --omq-port=1006\n",
      "oxen/oxen-storage-server/build/httpserver/oxen-storage 0.0.0.0 1005 --bind-ip=0.0.0.0 --data-dir=oxen/datadir/storage-128.140.66.163-1005 --oxend-rpc=ipc:///root/oxen/datadir/oxen-128.140.66.163-1001/devnet/oxend.sock --omq-port=1006\n",
      "oxen/oxen-storage-server/build/httpserver/oxen-storage 0.0.0.0 1005 --bind-ip=0.0.0.0 --data-dir=oxen/datadir/storage-116.203.41.114-1005 --oxend-rpc=ipc:///root/oxen/datadir/oxen-116.203.41.114-1001/devnet/oxend.sock --omq-port=1006\n",
      "oxen/oxen-storage-server/build/httpserver/oxen-storage 0.0.0.0 1005 --bind-ip=0.0.0.0 --data-dir=oxen/datadir/storage-116.203.49.0-1005 --oxend-rpc=ipc:///root/oxen/datadir/oxen-116.203.49.0-1001/devnet/oxend.sock --omq-port=1006\n",
      "2024-05-08 20:35:06.706256 Starting new oxend service nodes with RPC on 37.27.43.50 ports 1001"
     ]
    },
    {
     "name": "stderr",
     "output_type": "stream",
     "text": [
      "05/08/2024 08:35:07 PM Connected (version 2.0, client OpenSSH_8.9p1)\n",
      "05/08/2024 08:35:08 PM Authentication (publickey) failed.\n",
      "05/08/2024 08:35:08 PM Authentication (publickey) successful!\n"
     ]
    },
    {
     "name": "stdout",
     "output_type": "stream",
     "text": [
      "screen oxen/oxen-core/build/bin/oxend --dev-allow-local-ips --fixed-difficulty=1 --devnet --non-interactive --data-dir=oxen/datadir/oxen-37.27.43.50-1001 --log-level=2 --log-file=oxen.log --p2p-bind-ip=0.0.0.0 --p2p-bind-port=1000 --rpc-admin=0.0.0.0:1001 --quorumnet-port=1003 --service-node --service-node-public-ip=37.27.43.50 --storage-server-port=1004 --add-exclusive-node=37.27.43.89:1000 --add-exclusive-node=37.27.43.85:1000 --add-exclusive-node=5.75.171.41:1000 --add-exclusive-node=195.201.147.111:1000 --add-exclusive-node=116.203.49.0:1000\n",
      " 1001"
     ]
    },
    {
     "name": "stderr",
     "output_type": "stream",
     "text": [
      "05/08/2024 08:35:09 PM Connected (version 2.0, client OpenSSH_8.9p1)\n",
      "05/08/2024 08:35:10 PM Authentication (publickey) failed.\n",
      "05/08/2024 08:35:10 PM Authentication (publickey) successful!\n"
     ]
    },
    {
     "name": "stdout",
     "output_type": "stream",
     "text": [
      "screen oxen/oxen-core/build/bin/oxend --dev-allow-local-ips --fixed-difficulty=1 --devnet --non-interactive --data-dir=oxen/datadir/oxen-65.21.6.216-1001 --log-level=2 --log-file=oxen.log --p2p-bind-ip=0.0.0.0 --p2p-bind-port=1000 --rpc-admin=0.0.0.0:1001 --quorumnet-port=1003 --service-node --service-node-public-ip=65.21.6.216 --storage-server-port=1004 --add-exclusive-node=37.27.43.85:1000 --add-exclusive-node=167.235.63.65:1000 --add-exclusive-node=116.203.68.186:1000 --add-exclusive-node=49.13.172.214:1000 --add-exclusive-node=49.13.199.194:1000\n",
      " 1001"
     ]
    },
    {
     "name": "stderr",
     "output_type": "stream",
     "text": [
      "05/08/2024 08:35:12 PM Connected (version 2.0, client OpenSSH_8.9p1)\n",
      "05/08/2024 08:35:13 PM Authentication (publickey) failed.\n",
      "05/08/2024 08:35:14 PM Authentication (publickey) successful!\n"
     ]
    },
    {
     "name": "stdout",
     "output_type": "stream",
     "text": [
      "screen oxen/oxen-core/build/bin/oxend --dev-allow-local-ips --fixed-difficulty=1 --devnet --non-interactive --data-dir=oxen/datadir/oxen-37.27.43.89-1001 --log-level=2 --log-file=oxen.log --p2p-bind-ip=0.0.0.0 --p2p-bind-port=1000 --rpc-admin=0.0.0.0:1001 --quorumnet-port=1003 --service-node --service-node-public-ip=37.27.43.89 --storage-server-port=1004 --add-exclusive-node=167.235.63.65:1000 --add-exclusive-node=5.75.171.41:1000 --add-exclusive-node=195.201.147.111:1000 --add-exclusive-node=128.140.66.163:1000 --add-exclusive-node=49.13.173.77:1000\n",
      " 1001"
     ]
    },
    {
     "name": "stderr",
     "output_type": "stream",
     "text": [
      "05/08/2024 08:35:15 PM Connected (version 2.0, client OpenSSH_8.9p1)\n",
      "05/08/2024 08:35:16 PM Authentication (publickey) failed.\n",
      "05/08/2024 08:35:16 PM Authentication (publickey) successful!\n"
     ]
    },
    {
     "name": "stdout",
     "output_type": "stream",
     "text": [
      "screen oxen/oxen-core/build/bin/oxend --dev-allow-local-ips --fixed-difficulty=1 --devnet --non-interactive --data-dir=oxen/datadir/oxen-37.27.43.85-1001 --log-level=2 --log-file=oxen.log --p2p-bind-ip=0.0.0.0 --p2p-bind-port=1000 --rpc-admin=0.0.0.0:1001 --quorumnet-port=1003 --service-node --service-node-public-ip=37.27.43.85 --storage-server-port=1004 --add-exclusive-node=5.75.171.41:1000 --add-exclusive-node=116.203.68.186:1000 --add-exclusive-node=49.13.172.214:1000 --add-exclusive-node=116.203.41.114:1000 --add-exclusive-node=23.88.98.217:1000\n",
      " 1001"
     ]
    },
    {
     "name": "stderr",
     "output_type": "stream",
     "text": [
      "05/08/2024 08:35:18 PM Connected (version 2.0, client OpenSSH_8.9p1)\n",
      "05/08/2024 08:35:19 PM Authentication (publickey) failed.\n",
      "05/08/2024 08:35:19 PM Authentication (publickey) successful!\n"
     ]
    },
    {
     "name": "stdout",
     "output_type": "stream",
     "text": [
      "screen oxen/oxen-core/build/bin/oxend --dev-allow-local-ips --fixed-difficulty=1 --devnet --non-interactive --data-dir=oxen/datadir/oxen-167.235.63.65-1001 --log-level=2 --log-file=oxen.log --p2p-bind-ip=0.0.0.0 --p2p-bind-port=1000 --rpc-admin=0.0.0.0:1001 --quorumnet-port=1003 --service-node --service-node-public-ip=167.235.63.65 --storage-server-port=1004 --add-exclusive-node=116.203.68.186:1000 --add-exclusive-node=195.201.147.111:1000 --add-exclusive-node=128.140.66.163:1000 --add-exclusive-node=116.203.49.0:1000 --add-exclusive-node=37.27.43.50:1000\n",
      " 1001"
     ]
    },
    {
     "name": "stderr",
     "output_type": "stream",
     "text": [
      "05/08/2024 08:35:20 PM Connected (version 2.0, client OpenSSH_8.9p1)\n",
      "05/08/2024 08:35:21 PM Authentication (publickey) failed.\n",
      "05/08/2024 08:35:21 PM Authentication (publickey) successful!\n"
     ]
    },
    {
     "name": "stdout",
     "output_type": "stream",
     "text": [
      "screen oxen/oxen-core/build/bin/oxend --dev-allow-local-ips --fixed-difficulty=1 --devnet --non-interactive --data-dir=oxen/datadir/oxen-5.75.171.41-1001 --log-level=2 --log-file=oxen.log --p2p-bind-ip=0.0.0.0 --p2p-bind-port=1000 --rpc-admin=0.0.0.0:1001 --quorumnet-port=1003 --service-node --service-node-public-ip=5.75.171.41 --storage-server-port=1004 --add-exclusive-node=195.201.147.111:1000 --add-exclusive-node=49.13.172.214:1000 --add-exclusive-node=116.203.41.114:1000 --add-exclusive-node=49.13.199.194:1000 --add-exclusive-node=65.21.6.216:1000\n",
      " 1001"
     ]
    },
    {
     "name": "stderr",
     "output_type": "stream",
     "text": [
      "05/08/2024 08:35:22 PM Connected (version 2.0, client OpenSSH_8.9p1)\n",
      "05/08/2024 08:35:23 PM Authentication (publickey) failed.\n",
      "05/08/2024 08:35:23 PM Authentication (publickey) successful!\n"
     ]
    },
    {
     "name": "stdout",
     "output_type": "stream",
     "text": [
      "screen oxen/oxen-core/build/bin/oxend --dev-allow-local-ips --fixed-difficulty=1 --devnet --non-interactive --data-dir=oxen/datadir/oxen-116.203.68.186-1001 --log-level=2 --log-file=oxen.log --p2p-bind-ip=0.0.0.0 --p2p-bind-port=1000 --rpc-admin=0.0.0.0:1001 --quorumnet-port=1003 --service-node --service-node-public-ip=116.203.68.186 --storage-server-port=1004 --add-exclusive-node=49.13.172.214:1000 --add-exclusive-node=128.140.66.163:1000 --add-exclusive-node=116.203.49.0:1000 --add-exclusive-node=49.13.173.77:1000 --add-exclusive-node=37.27.43.89:1000\n",
      " 1001"
     ]
    },
    {
     "name": "stderr",
     "output_type": "stream",
     "text": [
      "05/08/2024 08:35:24 PM Connected (version 2.0, client OpenSSH_8.9p1)\n",
      "05/08/2024 08:35:25 PM Authentication (publickey) failed.\n",
      "05/08/2024 08:35:25 PM Authentication (publickey) successful!\n"
     ]
    },
    {
     "name": "stdout",
     "output_type": "stream",
     "text": [
      "screen oxen/oxen-core/build/bin/oxend --dev-allow-local-ips --fixed-difficulty=1 --devnet --non-interactive --data-dir=oxen/datadir/oxen-195.201.147.111-1001 --log-level=2 --log-file=oxen.log --p2p-bind-ip=0.0.0.0 --p2p-bind-port=1000 --rpc-admin=0.0.0.0:1001 --quorumnet-port=1003 --service-node --service-node-public-ip=195.201.147.111 --storage-server-port=1004 --add-exclusive-node=128.140.66.163:1000 --add-exclusive-node=116.203.41.114:1000 --add-exclusive-node=49.13.199.194:1000 --add-exclusive-node=23.88.98.217:1000 --add-exclusive-node=37.27.43.85:1000\n",
      " 1001"
     ]
    },
    {
     "name": "stderr",
     "output_type": "stream",
     "text": [
      "05/08/2024 08:35:26 PM Connected (version 2.0, client OpenSSH_8.9p1)\n",
      "05/08/2024 08:35:27 PM Authentication (publickey) failed.\n",
      "05/08/2024 08:35:28 PM Authentication (publickey) successful!\n"
     ]
    },
    {
     "name": "stdout",
     "output_type": "stream",
     "text": [
      "screen oxen/oxen-core/build/bin/oxend --dev-allow-local-ips --fixed-difficulty=1 --devnet --non-interactive --data-dir=oxen/datadir/oxen-49.13.172.214-1001 --log-level=2 --log-file=oxen.log --p2p-bind-ip=0.0.0.0 --p2p-bind-port=1000 --rpc-admin=0.0.0.0:1001 --quorumnet-port=1003 --service-node --service-node-public-ip=49.13.172.214 --storage-server-port=1004 --add-exclusive-node=116.203.41.114:1000 --add-exclusive-node=116.203.49.0:1000 --add-exclusive-node=49.13.173.77:1000 --add-exclusive-node=37.27.43.50:1000 --add-exclusive-node=167.235.63.65:1000\n",
      " 1001"
     ]
    },
    {
     "name": "stderr",
     "output_type": "stream",
     "text": [
      "05/08/2024 08:35:28 PM Connected (version 2.0, client OpenSSH_8.9p1)\n",
      "05/08/2024 08:35:29 PM Authentication (publickey) failed.\n",
      "05/08/2024 08:35:29 PM Authentication (publickey) successful!\n"
     ]
    },
    {
     "name": "stdout",
     "output_type": "stream",
     "text": [
      "screen oxen/oxen-core/build/bin/oxend --dev-allow-local-ips --fixed-difficulty=1 --devnet --non-interactive --data-dir=oxen/datadir/oxen-128.140.66.163-1001 --log-level=2 --log-file=oxen.log --p2p-bind-ip=0.0.0.0 --p2p-bind-port=1000 --rpc-admin=0.0.0.0:1001 --quorumnet-port=1003 --service-node --service-node-public-ip=128.140.66.163 --storage-server-port=1004 --add-exclusive-node=116.203.49.0:1000 --add-exclusive-node=49.13.199.194:1000 --add-exclusive-node=23.88.98.217:1000 --add-exclusive-node=65.21.6.216:1000 --add-exclusive-node=5.75.171.41:1000\n",
      " 1001"
     ]
    },
    {
     "name": "stderr",
     "output_type": "stream",
     "text": [
      "05/08/2024 08:35:31 PM Connected (version 2.0, client OpenSSH_8.9p1)\n",
      "05/08/2024 08:35:31 PM Authentication (publickey) failed.\n",
      "05/08/2024 08:35:32 PM Authentication (publickey) successful!\n"
     ]
    },
    {
     "name": "stdout",
     "output_type": "stream",
     "text": [
      "screen oxen/oxen-core/build/bin/oxend --dev-allow-local-ips --fixed-difficulty=1 --devnet --non-interactive --data-dir=oxen/datadir/oxen-116.203.41.114-1001 --log-level=2 --log-file=oxen.log --p2p-bind-ip=0.0.0.0 --p2p-bind-port=1000 --rpc-admin=0.0.0.0:1001 --quorumnet-port=1003 --service-node --service-node-public-ip=116.203.41.114 --storage-server-port=1004 --add-exclusive-node=49.13.199.194:1000 --add-exclusive-node=49.13.173.77:1000 --add-exclusive-node=37.27.43.50:1000 --add-exclusive-node=37.27.43.89:1000 --add-exclusive-node=116.203.68.186:1000\n",
      " 1001"
     ]
    },
    {
     "name": "stderr",
     "output_type": "stream",
     "text": [
      "05/08/2024 08:35:33 PM Connected (version 2.0, client OpenSSH_8.9p1)\n",
      "05/08/2024 08:35:33 PM Authentication (publickey) successful!\n"
     ]
    },
    {
     "name": "stdout",
     "output_type": "stream",
     "text": [
      "screen oxen/oxen-core/build/bin/oxend --dev-allow-local-ips --fixed-difficulty=1 --devnet --non-interactive --data-dir=oxen/datadir/oxen-116.203.49.0-1001 --log-level=2 --log-file=oxen.log --p2p-bind-ip=0.0.0.0 --p2p-bind-port=1000 --rpc-admin=0.0.0.0:1001 --quorumnet-port=1003 --service-node --service-node-public-ip=116.203.49.0 --storage-server-port=1004 --add-exclusive-node=49.13.173.77:1000 --add-exclusive-node=23.88.98.217:1000 --add-exclusive-node=65.21.6.216:1000 --add-exclusive-node=37.27.43.85:1000 --add-exclusive-node=195.201.147.111:1000\n",
      "\n",
      "2024-05-08 20:35:34.552900 Starting new regular oxend nodes with RPC on 49.13.199.194 ports 1001"
     ]
    },
    {
     "name": "stderr",
     "output_type": "stream",
     "text": [
      "05/08/2024 08:35:34 PM Connected (version 2.0, client OpenSSH_8.9p1)\n",
      "05/08/2024 08:35:36 PM Authentication (publickey) failed.\n",
      "05/08/2024 08:35:36 PM Authentication (publickey) successful!\n"
     ]
    },
    {
     "name": "stdout",
     "output_type": "stream",
     "text": [
      "screen oxen/oxen-core/build/bin/oxend --dev-allow-local-ips --fixed-difficulty=1 --devnet --non-interactive --data-dir=oxen/datadir/oxen-49.13.199.194-1001 --log-level=2 --log-file=oxen.log --p2p-bind-ip=0.0.0.0 --p2p-bind-port=1000 --rpc-admin=0.0.0.0:1001 --quorumnet-port=1003 --add-exclusive-node=23.88.98.217:1000 --add-exclusive-node=37.27.43.50:1000 --add-exclusive-node=37.27.43.89:1000 --add-exclusive-node=167.235.63.65:1000 --add-exclusive-node=49.13.172.214:1000\n",
      " 1001"
     ]
    },
    {
     "name": "stderr",
     "output_type": "stream",
     "text": [
      "05/08/2024 08:35:37 PM Connected (version 2.0, client OpenSSH_8.9p1)\n",
      "05/08/2024 08:35:38 PM Authentication (publickey) failed.\n",
      "05/08/2024 08:35:38 PM Authentication (publickey) successful!\n"
     ]
    },
    {
     "name": "stdout",
     "output_type": "stream",
     "text": [
      "screen oxen/oxen-core/build/bin/oxend --dev-allow-local-ips --fixed-difficulty=1 --devnet --non-interactive --data-dir=oxen/datadir/oxen-49.13.173.77-1001 --log-level=2 --log-file=oxen.log --p2p-bind-ip=0.0.0.0 --p2p-bind-port=1000 --rpc-admin=0.0.0.0:1001 --quorumnet-port=1003 --add-exclusive-node=37.27.43.50:1000 --add-exclusive-node=65.21.6.216:1000 --add-exclusive-node=37.27.43.85:1000 --add-exclusive-node=5.75.171.41:1000 --add-exclusive-node=128.140.66.163:1000\n",
      " 1001"
     ]
    },
    {
     "name": "stderr",
     "output_type": "stream",
     "text": [
      "05/08/2024 08:35:39 PM Connected (version 2.0, client OpenSSH_8.9p1)\n",
      "05/08/2024 08:35:40 PM Authentication (publickey) failed.\n",
      "05/08/2024 08:35:40 PM Authentication (publickey) successful!\n"
     ]
    },
    {
     "name": "stdout",
     "output_type": "stream",
     "text": [
      "screen oxen/oxen-core/build/bin/oxend --dev-allow-local-ips --fixed-difficulty=1 --devnet --non-interactive --data-dir=oxen/datadir/oxen-23.88.98.217-1001 --log-level=2 --log-file=oxen.log --p2p-bind-ip=0.0.0.0 --p2p-bind-port=1000 --rpc-admin=0.0.0.0:1001 --quorumnet-port=1003 --add-exclusive-node=65.21.6.216:1000 --add-exclusive-node=37.27.43.89:1000 --add-exclusive-node=167.235.63.65:1000 --add-exclusive-node=116.203.68.186:1000 --add-exclusive-node=116.203.41.114:1000\n",
      "\n",
      "2024-05-08 20:35:41.246159 Waiting for all oxend's to get ready\n",
      "2024-05-08 20:35:49.302227 Oxends are ready. Starting wallets\n",
      "2024-05-08 20:35:49.302563 Starting new RPC wallet Alice at 49.13.199.194:2001\n"
     ]
    },
    {
     "name": "stderr",
     "output_type": "stream",
     "text": [
      "05/08/2024 08:35:49 PM Connected (version 2.0, client OpenSSH_8.9p1)\n",
      "05/08/2024 08:35:50 PM Authentication (publickey) failed.\n",
      "05/08/2024 08:35:51 PM Authentication (publickey) successful!\n"
     ]
    },
    {
     "name": "stdout",
     "output_type": "stream",
     "text": [
      "screen oxen/oxen-core/build/bin/oxen-wallet-rpc --disable-rpc-login --non-interactive --password abcd --devnet --disable-rpc-long-poll --daemon-ssl=disabled --confirm-external-bind --rpc-bind-ip=0.0.0.0 --rpc-bind-port=2001 --log-level=2 --log-file=oxen/datadir/wallet-49.13.199.194-2001/log.txt --daemon-address=127.0.0.1:1001 --wallet-dir=oxen/datadir/wallet-49.13.199.194-2001\n",
      "2024-05-08 20:35:52.297789 Starting new RPC wallet Bob at 49.13.173.77:2001\n"
     ]
    },
    {
     "name": "stderr",
     "output_type": "stream",
     "text": [
      "05/08/2024 08:35:52 PM Connected (version 2.0, client OpenSSH_8.9p1)\n",
      "05/08/2024 08:35:53 PM Authentication (publickey) failed.\n",
      "05/08/2024 08:35:53 PM Authentication (publickey) successful!\n"
     ]
    },
    {
     "name": "stdout",
     "output_type": "stream",
     "text": [
      "screen oxen/oxen-core/build/bin/oxen-wallet-rpc --disable-rpc-login --non-interactive --password abcd --devnet --disable-rpc-long-poll --daemon-ssl=disabled --confirm-external-bind --rpc-bind-ip=0.0.0.0 --rpc-bind-port=2001 --log-level=2 --log-file=oxen/datadir/wallet-49.13.173.77-2001/log.txt --daemon-address=127.0.0.1:1001 --wallet-dir=oxen/datadir/wallet-49.13.173.77-2001\n",
      "2024-05-08 20:35:54.557415 Starting new RPC wallet Mike at 23.88.98.217:2001\n"
     ]
    },
    {
     "name": "stderr",
     "output_type": "stream",
     "text": [
      "05/08/2024 08:35:54 PM Connected (version 2.0, client OpenSSH_8.9p1)\n",
      "05/08/2024 08:35:55 PM Authentication (publickey) failed.\n",
      "05/08/2024 08:35:55 PM Authentication (publickey) successful!\n"
     ]
    },
    {
     "name": "stdout",
     "output_type": "stream",
     "text": [
      "screen oxen/oxen-core/build/bin/oxen-wallet-rpc --disable-rpc-login --non-interactive --password abcd --devnet --disable-rpc-long-poll --daemon-ssl=disabled --confirm-external-bind --rpc-bind-ip=0.0.0.0 --rpc-bind-port=2001 --log-level=2 --log-file=oxen/datadir/wallet-23.88.98.217-2001/log.txt --daemon-address=127.0.0.1:1001 --wallet-dir=oxen/datadir/wallet-23.88.98.217-2001\n",
      "Started RPC Wallet - Alice, on 49.13.199.194:2001\n",
      "2024-05-08 20:35:59.278068 Wallet Alice is ready: PPz152Uyp9jh7unr6a4Tima3wHEE46dUS3x3RdQkde2W58tYfDpaH3C6CmpjWU14PtDz1hVZZ2E8uCcGiCyzND63A1gESUWXkp\n",
      "Started RPC Wallet - Bob, on 49.13.173.77:2001\n",
      "2024-05-08 20:36:01.311979 Wallet Bob is ready: PPyzwRA6HZjg9nw3JHyAaQUQJN9YBW2br7ysY3nacVPzJdAsF6CRn4ocSBHhVCskYN7tyEZ5Fo1XB33xZ1qkggKX3MCSPTSD1S\n",
      "Started RPC Wallet - Mike, on 23.88.98.217:2001\n",
      "2024-05-08 20:36:03.090682 Wallet Mike is ready: PPz1EZNhGy5WZFS83V44EPaDgpi3fZAZVKDhzJyVHNvgB4bacFWLgWzM4XD2PD7dKjg9iqLkXRTRV7jH2nVkCqj31DfXg4H93p\n",
      "2024-05-08 20:36:04.049005 Mining 100 blocks to wallet Mike\n",
      "2024-05-08 20:36:06.088367 Mined 3/101\n",
      "2024-05-08 20:36:06.847181 Mined 3/101\n",
      "2024-05-08 20:36:07.618365 Mined 3/101\n",
      "2024-05-08 20:36:08.394787 Mined 3/101\n",
      "2024-05-08 20:36:09.161749 Mined 3/101\n",
      "2024-05-08 20:36:09.927448 Mined 3/101\n",
      "2024-05-08 20:36:10.734064 Mined 3/101\n",
      "2024-05-08 20:36:11.489934 Mined 3/101\n",
      "2024-05-08 20:36:12.392407 Mined 3/101\n",
      "2024-05-08 20:36:13.132850 Mined 3/101\n",
      "2024-05-08 20:36:13.883314 Mined 3/101\n",
      "2024-05-08 20:36:14.627295 Mined 3/101\n",
      "2024-05-08 20:36:15.468105 Mined 3/101\n",
      "2024-05-08 20:36:16.324976 Mined 3/101\n",
      "2024-05-08 20:36:17.143486 Mined 3/101\n",
      "2024-05-08 20:36:17.889287 Mined 3/101\n",
      "2024-05-08 20:36:18.649087 Mined 3/101\n",
      "2024-05-08 20:36:19.395824 Mined 3/101\n",
      "2024-05-08 20:36:20.144025 Mined 3/101\n",
      "2024-05-08 20:36:20.890660 Mined 3/101\n",
      "2024-05-08 20:36:21.655792 Mined 3/101\n",
      "2024-05-08 20:36:22.406417 Mined 3/101\n",
      "2024-05-08 20:36:23.150558 Mined 3/101\n",
      "2024-05-08 20:36:23.892919 Mined 3/101\n",
      "2024-05-08 20:36:24.636993 Mined 3/101\n",
      "2024-05-08 20:36:25.402791 Mined 3/101\n",
      "2024-05-08 20:36:26.167546 Mined 3/101\n",
      "2024-05-08 20:36:26.970284 Mined 3/101\n",
      "2024-05-08 20:36:27.714427 Mined 3/101\n",
      "2024-05-08 20:36:28.488335 Mined 3/101\n",
      "2024-05-08 20:36:29.268606 Mined 3/101\n",
      "2024-05-08 20:36:30.021805 Mined 3/101\n",
      "2024-05-08 20:36:30.767922 Mined 3/101\n",
      "2024-05-08 20:36:31.527764 Mined 3/101\n",
      "2024-05-08 20:36:32.316023 Mined 3/101\n",
      "2024-05-08 20:36:33.622636 Mined 14/101\n",
      "2024-05-08 20:36:34.644120 Mined 41/101\n",
      "2024-05-08 20:36:35.914973 Mined 69/101\n",
      "2024-05-08 20:36:37.215924 Mined 91/101\n",
      "2024-05-08 20:36:38.479023 Mined 101/101\n",
      "2024-05-08 20:36:40.352442 Submitting first round of service node registrations: .....\n",
      "2024-05-08 20:36:53.306904 Going back to mining\n",
      "2024-05-08 20:36:53.307362 Mining 72 blocks to wallet Mike\n",
      "2024-05-08 20:36:54.973699 Mined 101/173\n",
      "2024-05-08 20:36:56.115848 Mined 101/173\n",
      "2024-05-08 20:36:56.939768 Mined 101/173\n",
      "2024-05-08 20:36:57.681843 Mined 101/173\n",
      "2024-05-08 20:36:58.435030 Mined 101/173\n",
      "2024-05-08 20:36:59.189780 Mined 101/173\n",
      "2024-05-08 20:36:59.941918 Mined 101/173\n",
      "2024-05-08 20:37:00.710589 Mined 101/173\n",
      "2024-05-08 20:37:01.462445 Mined 101/173\n",
      "2024-05-08 20:37:02.241025 Mined 101/173\n",
      "2024-05-08 20:37:03.020656 Mined 101/173\n",
      "2024-05-08 20:37:03.772178 Mined 101/173\n",
      "2024-05-08 20:37:04.575137 Mined 101/173\n",
      "2024-05-08 20:37:05.318481 Mined 101/173\n",
      "2024-05-08 20:37:06.064293 Mined 101/173\n",
      "2024-05-08 20:37:06.867483 Mined 101/173\n",
      "2024-05-08 20:37:07.650013 Mined 101/173\n",
      "2024-05-08 20:37:08.402964 Mined 101/173\n",
      "2024-05-08 20:37:09.164427 Mined 101/173\n",
      "2024-05-08 20:37:10.921467 Mined 101/173\n",
      "2024-05-08 20:37:11.679174 Mined 101/173\n",
      "2024-05-08 20:37:12.455803 Mined 101/173\n",
      "2024-05-08 20:37:13.201541 Mined 101/173\n",
      "2024-05-08 20:37:13.950167 Mined 101/173\n",
      "2024-05-08 20:37:14.733874 Mined 101/173\n",
      "2024-05-08 20:37:15.505364 Mined 101/173\n",
      "2024-05-08 20:37:16.270013 Mined 101/173\n",
      "2024-05-08 20:37:17.017461 Mined 101/173\n",
      "2024-05-08 20:37:20.160244 Mined 102/173\n",
      "2024-05-08 20:37:21.496406 Mined 152/173\n",
      "2024-05-08 20:37:22.534269 Mined 173/173\n",
      "2024-05-08 20:37:23.088521 Mined 173/173\n",
      "2024-05-08 20:37:23.088608 Balances:\n",
      "2024-05-08 20:37:26.349153     Alice: 0.000000000 (total) with 0.000000000 (unlocked)\n",
      "2024-05-08 20:37:27.178939     Bob  : 0.000000000 (total) with 0.000000000 (unlocked)\n",
      "2024-05-08 20:37:27.981039     Mike : 2024.898846579 (total) with 1046.398846579 (unlocked)\n",
      "2024-05-08 20:37:27.981128 Submitting more service node registrations: ......\n",
      "2024-05-08 20:37:38.306780 Done.\n",
      "2024-05-08 20:37:38.306806 Balances:\n",
      "2024-05-08 20:37:39.074566     Alice: 0.000000000 (total) with 0.000000000 (unlocked)\n",
      "2024-05-08 20:37:39.638213     Bob  : 0.000000000 (total) with 0.000000000 (unlocked)\n",
      "2024-05-08 20:37:40.437529     Mike : 1424.834326089 (total) with 403.877575747 (unlocked)\n",
      "2024-05-08 20:37:40.437752 Mining 40 blocks (registrations + blink quorum lag) and waiting for nodes to sync\n",
      "2024-05-08 20:37:40.437821 Mining 40 blocks to wallet Mike\n",
      "2024-05-08 20:37:42.033393 Mined 173/213\n",
      "2024-05-08 20:37:43.065539 Mined 173/213\n",
      "2024-05-08 20:37:43.846920 Mined 173/213\n",
      "2024-05-08 20:37:44.599803 Mined 173/213\n",
      "2024-05-08 20:37:45.471407 Mined 173/213\n",
      "2024-05-08 20:37:46.218495 Mined 173/213\n",
      "2024-05-08 20:37:46.964833 Mined 173/213\n",
      "2024-05-08 20:37:47.715797 Mined 173/213\n",
      "2024-05-08 20:37:48.458952 Mined 173/213\n",
      "2024-05-08 20:37:49.215313 Mined 173/213\n",
      "2024-05-08 20:37:49.994167 Mined 173/213\n",
      "2024-05-08 20:37:50.778507 Mined 173/213\n",
      "2024-05-08 20:37:51.540040 Mined 173/213\n",
      "2024-05-08 20:37:52.315140 Mined 173/213\n",
      "2024-05-08 20:37:53.156170 Mined 173/213\n",
      "2024-05-08 20:37:53.907017 Mined 173/213\n",
      "2024-05-08 20:37:54.744129 Mined 173/213\n",
      "2024-05-08 20:37:55.534853 Mined 173/213\n",
      "2024-05-08 20:37:56.434180 Mined 173/213\n",
      "2024-05-08 20:37:57.179529 Mined 173/213\n",
      "2024-05-08 20:37:57.946454 Mined 173/213\n",
      "2024-05-08 20:37:58.729618 Mined 173/213\n",
      "2024-05-08 20:37:59.494625 Mined 173/213\n",
      "2024-05-08 20:38:00.302412 Mined 173/213\n",
      "2024-05-08 20:38:01.142094 Mined 173/213\n",
      "2024-05-08 20:38:01.935849 Mined 173/213\n",
      "2024-05-08 20:38:02.862463 Mined 173/213\n",
      "2024-05-08 20:38:03.610605 Mined 173/213\n",
      "2024-05-08 20:38:04.361789 Mined 173/213\n",
      "2024-05-08 20:38:05.320908 Mined 178/213\n",
      "2024-05-08 20:38:06.531658 Mined 203/213\n",
      "2024-05-08 20:38:07.691831 Mined 213/213\n",
      "2024-05-08 20:38:08.269866 Mined 213/213\n",
      "2024-05-08 20:38:12.510296 All nodes already synced to height >= 213\n",
      "2024-05-08 20:38:12.511567 Balances:\n",
      "2024-05-08 20:38:13.510729     Alice: 0.000000000 (total) with 0.000000000 (unlocked)\n",
      "2024-05-08 20:38:14.061981     Bob  : 0.000000000 (total) with 0.000000000 (unlocked)\n",
      "2024-05-08 20:38:15.020782     Mike : 2684.898846579 (total) with 1106.398846579 (unlocked)\n",
      "2024-05-08 20:38:15.021734 Starting Storage Serices\n",
      "Storage @ 1005\n"
     ]
    },
    {
     "name": "stderr",
     "output_type": "stream",
     "text": [
      "05/08/2024 08:38:15 PM Connected (version 2.0, client OpenSSH_8.9p1)\n",
      "05/08/2024 08:38:16 PM Authentication (publickey) failed.\n",
      "05/08/2024 08:38:16 PM Authentication (publickey) successful!\n"
     ]
    },
    {
     "name": "stdout",
     "output_type": "stream",
     "text": [
      "screen oxen/oxen-storage-server/build/httpserver/oxen-storage 0.0.0.0 1005 --bind-ip=0.0.0.0 --data-dir=oxen/datadir/storage-37.27.43.50-1005 --oxend-rpc=ipc:///root/oxen/datadir/oxen-37.27.43.50-1001/devnet/oxend.sock --omq-port=1006\n",
      "Storage @ 1005\n"
     ]
    },
    {
     "name": "stderr",
     "output_type": "stream",
     "text": [
      "05/08/2024 08:38:18 PM Connected (version 2.0, client OpenSSH_8.9p1)\n",
      "05/08/2024 08:38:19 PM Authentication (publickey) failed.\n",
      "05/08/2024 08:38:19 PM Authentication (publickey) successful!\n"
     ]
    },
    {
     "name": "stdout",
     "output_type": "stream",
     "text": [
      "screen oxen/oxen-storage-server/build/httpserver/oxen-storage 0.0.0.0 1005 --bind-ip=0.0.0.0 --data-dir=oxen/datadir/storage-65.21.6.216-1005 --oxend-rpc=ipc:///root/oxen/datadir/oxen-65.21.6.216-1001/devnet/oxend.sock --omq-port=1006\n",
      "Storage @ 1005\n"
     ]
    },
    {
     "name": "stderr",
     "output_type": "stream",
     "text": [
      "05/08/2024 08:38:21 PM Connected (version 2.0, client OpenSSH_8.9p1)\n",
      "05/08/2024 08:38:22 PM Authentication (publickey) failed.\n",
      "05/08/2024 08:38:22 PM Authentication (publickey) successful!\n"
     ]
    },
    {
     "name": "stdout",
     "output_type": "stream",
     "text": [
      "screen oxen/oxen-storage-server/build/httpserver/oxen-storage 0.0.0.0 1005 --bind-ip=0.0.0.0 --data-dir=oxen/datadir/storage-37.27.43.89-1005 --oxend-rpc=ipc:///root/oxen/datadir/oxen-37.27.43.89-1001/devnet/oxend.sock --omq-port=1006\n",
      "Storage @ 1005\n"
     ]
    },
    {
     "name": "stderr",
     "output_type": "stream",
     "text": [
      "05/08/2024 08:38:24 PM Connected (version 2.0, client OpenSSH_8.9p1)\n",
      "05/08/2024 08:38:25 PM Authentication (publickey) failed.\n",
      "05/08/2024 08:38:25 PM Authentication (publickey) successful!\n"
     ]
    },
    {
     "name": "stdout",
     "output_type": "stream",
     "text": [
      "screen oxen/oxen-storage-server/build/httpserver/oxen-storage 0.0.0.0 1005 --bind-ip=0.0.0.0 --data-dir=oxen/datadir/storage-37.27.43.85-1005 --oxend-rpc=ipc:///root/oxen/datadir/oxen-37.27.43.85-1001/devnet/oxend.sock --omq-port=1006\n",
      "Storage @ 1005\n"
     ]
    },
    {
     "name": "stderr",
     "output_type": "stream",
     "text": [
      "05/08/2024 08:38:27 PM Connected (version 2.0, client OpenSSH_8.9p1)\n",
      "05/08/2024 08:38:27 PM Authentication (publickey) failed.\n",
      "05/08/2024 08:38:28 PM Authentication (publickey) successful!\n"
     ]
    },
    {
     "name": "stdout",
     "output_type": "stream",
     "text": [
      "screen oxen/oxen-storage-server/build/httpserver/oxen-storage 0.0.0.0 1005 --bind-ip=0.0.0.0 --data-dir=oxen/datadir/storage-167.235.63.65-1005 --oxend-rpc=ipc:///root/oxen/datadir/oxen-167.235.63.65-1001/devnet/oxend.sock --omq-port=1006\n",
      "Storage @ 1005\n"
     ]
    },
    {
     "name": "stderr",
     "output_type": "stream",
     "text": [
      "05/08/2024 08:38:29 PM Connected (version 2.0, client OpenSSH_8.9p1)\n",
      "05/08/2024 08:38:30 PM Authentication (publickey) failed.\n",
      "05/08/2024 08:38:30 PM Authentication (publickey) successful!\n"
     ]
    },
    {
     "name": "stdout",
     "output_type": "stream",
     "text": [
      "screen oxen/oxen-storage-server/build/httpserver/oxen-storage 0.0.0.0 1005 --bind-ip=0.0.0.0 --data-dir=oxen/datadir/storage-5.75.171.41-1005 --oxend-rpc=ipc:///root/oxen/datadir/oxen-5.75.171.41-1001/devnet/oxend.sock --omq-port=1006\n",
      "Storage @ 1005\n"
     ]
    },
    {
     "name": "stderr",
     "output_type": "stream",
     "text": [
      "05/08/2024 08:38:32 PM Connected (version 2.0, client OpenSSH_8.9p1)\n",
      "05/08/2024 08:38:32 PM Authentication (publickey) failed.\n",
      "05/08/2024 08:38:33 PM Authentication (publickey) successful!\n"
     ]
    },
    {
     "name": "stdout",
     "output_type": "stream",
     "text": [
      "screen oxen/oxen-storage-server/build/httpserver/oxen-storage 0.0.0.0 1005 --bind-ip=0.0.0.0 --data-dir=oxen/datadir/storage-116.203.68.186-1005 --oxend-rpc=ipc:///root/oxen/datadir/oxen-116.203.68.186-1001/devnet/oxend.sock --omq-port=1006\n",
      "Storage @ 1005\n"
     ]
    },
    {
     "name": "stderr",
     "output_type": "stream",
     "text": [
      "05/08/2024 08:38:34 PM Connected (version 2.0, client OpenSSH_8.9p1)\n",
      "05/08/2024 08:38:35 PM Authentication (publickey) failed.\n",
      "05/08/2024 08:38:35 PM Authentication (publickey) successful!\n"
     ]
    },
    {
     "name": "stdout",
     "output_type": "stream",
     "text": [
      "screen oxen/oxen-storage-server/build/httpserver/oxen-storage 0.0.0.0 1005 --bind-ip=0.0.0.0 --data-dir=oxen/datadir/storage-195.201.147.111-1005 --oxend-rpc=ipc:///root/oxen/datadir/oxen-195.201.147.111-1001/devnet/oxend.sock --omq-port=1006\n",
      "Storage @ 1005\n"
     ]
    },
    {
     "name": "stderr",
     "output_type": "stream",
     "text": [
      "05/08/2024 08:38:36 PM Connected (version 2.0, client OpenSSH_8.9p1)\n",
      "05/08/2024 08:38:37 PM Authentication (publickey) failed.\n",
      "05/08/2024 08:38:37 PM Authentication (publickey) successful!\n"
     ]
    },
    {
     "name": "stdout",
     "output_type": "stream",
     "text": [
      "screen oxen/oxen-storage-server/build/httpserver/oxen-storage 0.0.0.0 1005 --bind-ip=0.0.0.0 --data-dir=oxen/datadir/storage-49.13.172.214-1005 --oxend-rpc=ipc:///root/oxen/datadir/oxen-49.13.172.214-1001/devnet/oxend.sock --omq-port=1006\n",
      "Storage @ 1005\n"
     ]
    },
    {
     "name": "stderr",
     "output_type": "stream",
     "text": [
      "05/08/2024 08:38:39 PM Connected (version 2.0, client OpenSSH_8.9p1)\n",
      "05/08/2024 08:38:40 PM Authentication (publickey) failed.\n",
      "05/08/2024 08:38:40 PM Authentication (publickey) successful!\n"
     ]
    },
    {
     "name": "stdout",
     "output_type": "stream",
     "text": [
      "screen oxen/oxen-storage-server/build/httpserver/oxen-storage 0.0.0.0 1005 --bind-ip=0.0.0.0 --data-dir=oxen/datadir/storage-128.140.66.163-1005 --oxend-rpc=ipc:///root/oxen/datadir/oxen-128.140.66.163-1001/devnet/oxend.sock --omq-port=1006\n",
      "Storage @ 1005\n"
     ]
    },
    {
     "name": "stderr",
     "output_type": "stream",
     "text": [
      "05/08/2024 08:38:41 PM Connected (version 2.0, client OpenSSH_8.9p1)\n",
      "05/08/2024 08:38:42 PM Authentication (publickey) failed.\n",
      "05/08/2024 08:38:42 PM Authentication (publickey) successful!\n"
     ]
    },
    {
     "name": "stdout",
     "output_type": "stream",
     "text": [
      "screen oxen/oxen-storage-server/build/httpserver/oxen-storage 0.0.0.0 1005 --bind-ip=0.0.0.0 --data-dir=oxen/datadir/storage-116.203.41.114-1005 --oxend-rpc=ipc:///root/oxen/datadir/oxen-116.203.41.114-1001/devnet/oxend.sock --omq-port=1006\n",
      "Storage @ 1005\n"
     ]
    },
    {
     "name": "stderr",
     "output_type": "stream",
     "text": [
      "05/08/2024 08:38:44 PM Connected (version 2.0, client OpenSSH_8.9p1)\n",
      "05/08/2024 08:38:44 PM Authentication (publickey) successful!\n"
     ]
    },
    {
     "name": "stdout",
     "output_type": "stream",
     "text": [
      "screen oxen/oxen-storage-server/build/httpserver/oxen-storage 0.0.0.0 1005 --bind-ip=0.0.0.0 --data-dir=oxen/datadir/storage-116.203.49.0-1005 --oxend-rpc=ipc:///root/oxen/datadir/oxen-116.203.49.0-1001/devnet/oxend.sock --omq-port=1006\n",
      "2024-05-08 20:38:45.839939 Sending fake lokinet/ss pings\n",
      "2024-05-08 20:38:53.637455 Waiting for proofs to propagate: ............\n",
      ".2024-05-08 20:39:30.662461 Mining 1 blocks to wallet Mike\n",
      "2024-05-08 20:39:32.189523 Mined 213/214\n",
      "2024-05-08 20:39:33.191938 Mined 213/214\n",
      "2024-05-08 20:39:33.939040 Mined 213/214\n",
      "2024-05-08 20:39:34.694035 Mined 213/214\n",
      "2024-05-08 20:39:35.437778 Mined 213/214\n",
      "2024-05-08 20:39:36.191635 Mined 213/214\n",
      "2024-05-08 20:39:36.971093 Mined 213/214\n",
      "2024-05-08 20:39:37.717603 Mined 213/214\n",
      "2024-05-08 20:39:38.467531 Mined 213/214\n",
      "2024-05-08 20:39:39.232448 Mined 213/214\n",
      "2024-05-08 20:39:39.991052 Mined 213/214\n",
      "2024-05-08 20:39:40.757980 Mined 213/214\n",
      "2024-05-08 20:39:41.545610 Mined 213/214\n",
      "2024-05-08 20:39:42.302664 Mined 213/214\n",
      "2024-05-08 20:39:43.045949 Mined 213/214\n",
      "2024-05-08 20:39:43.785190 Mined 213/214\n",
      "2024-05-08 20:39:44.538817 Mined 213/214\n",
      "2024-05-08 20:39:45.291135 Mined 213/214\n",
      "2024-05-08 20:39:46.042424 Mined 213/214\n",
      "2024-05-08 20:39:46.816866 Mined 213/214\n",
      "2024-05-08 20:39:47.568783 Mined 213/214\n",
      "2024-05-08 20:39:48.350902 Mined 213/214\n",
      "2024-05-08 20:39:49.098876 Mined 213/214\n",
      "2024-05-08 20:39:49.857639 Mined 213/214\n",
      "2024-05-08 20:39:50.611155 Mined 213/214\n",
      "2024-05-08 20:39:51.364845 Mined 213/214\n",
      "2024-05-08 20:39:52.119921 Mined 213/214\n",
      "2024-05-08 20:39:52.862479 Mined 213/214\n",
      "2024-05-08 20:39:53.613072 Mined 213/214\n",
      "2024-05-08 20:39:54.485939 Mined 213/214\n",
      "2024-05-08 20:39:57.490541 Mined 214/214\n",
      "2024-05-08 20:40:02.857153 All nodes already synced to height >= 214\n",
      "2024-05-08 20:40:16.634559 Done.\n",
      "2024-05-08 20:40:16.634635 Local Devnet SN network setup complete!\n",
      "2024-05-08 20:40:16.634654 Communicate with daemon on ip: 37.27.43.50 port: 1001\n"
     ]
    }
   ],
   "source": [
    "logger.info(\"starting new SNN\")\n",
    "\n",
    "print(service_nodes)\n",
    "snn = SNNetwork(datadir=\"oxen/datadir\",\n",
    "                binpath=\"oxen/oxen-core/build/bin\",\n",
    "                ss_binpath=\"oxen/oxen-storage-server/build/httpserver\",\n",
    "                nodes=nodes,\n",
    "                sns=service_nodes,\n",
    "                phase=0\n",
    "                )\n",
    "        "
   ]
  },
  {
   "cell_type": "code",
   "execution_count": 19,
   "metadata": {},
   "outputs": [
    {
     "name": "stdout",
     "output_type": "stream",
     "text": [
      "Started RPC Wallet - Mike, on 127.0.0.1:2001\n"
     ]
    }
   ],
   "source": [
    "# snn.mike.node.json_rpc(\"sync_info\").json()\n",
    "\n",
    "#rpc(\"/mining_status\").json()\n",
    "# snn.mike.listen_ip=\"127.0.0.1\"\n",
    "# snn.mike.ready()\n",
    "# snn.mike.node.remote_ip"
   ]
  },
  {
   "cell_type": "code",
   "execution_count": 6,
   "metadata": {},
   "outputs": [
    {
     "name": "stdout",
     "output_type": "stream",
     "text": [
      "{'jsonrpc': '2.0', 'id': '0', 'result': {'alt_blocks_count': 0, 'block_size_limit': 600000, 'block_size_median': 300000, 'block_weight_limit': 600000, 'block_weight_median': 300000, 'cumulative_difficulty': 215, 'database_size': 704512, 'devnet': True, 'difficulty': 1, 'free_space': 32821071872, 'grey_peerlist_size': 5, 'height': 215, 'height_without_bootstrap': 215, 'immutable_block_hash': '', 'immutable_height': 0, 'incoming_connections_count': 5, 'last_lokinet_ping': 1715188127, 'last_storage_server_ping': 1715188387, 'mainnet': False, 'nettype': 'devnet', 'offline': False, 'ons_counts': [0, 0, 0], 'outgoing_connections_count': 5, 'pulse_ideal_timestamp': 1715202037, 'pulse_target_timestamp': 1715188472, 'service_node': True, 'start_time': 1715187909, 'status': 'OK', 'status_line': 'v9.2.0; Height: 215, SN: active, proof: 6m10s, storage: 22s, lokinet: 4m42s', 'target': 120, 'target_height': 101, 'testnet': False, 'top_block_hash': '9de4824539d033f4cb211db60314f5c7587e221d3fc0c1c34c3da5bf174274f7', 'tx_count': 12, 'tx_pool_size': 0, 'untrusted': False, 'version': '9.2.0-90039f976', 'was_bootstrap_ever_used': False, 'white_peerlist_size': 10}}\n",
      "{'jsonrpc': '2.0', 'id': '0', 'result': {'alt_blocks_count': 0, 'block_size_limit': 600000, 'block_size_median': 300000, 'block_weight_limit': 600000, 'block_weight_median': 300000, 'cumulative_difficulty': 215, 'database_size': 704512, 'devnet': True, 'difficulty': 1, 'free_space': 32869355520, 'grey_peerlist_size': 5, 'height': 215, 'height_without_bootstrap': 215, 'immutable_block_hash': '', 'immutable_height': 0, 'incoming_connections_count': 5, 'last_lokinet_ping': 1715188127, 'last_storage_server_ping': 1715188380, 'mainnet': False, 'nettype': 'devnet', 'offline': False, 'ons_counts': [0, 0, 0], 'outgoing_connections_count': 5, 'pulse_ideal_timestamp': 1715202037, 'pulse_target_timestamp': 1715188472, 'service_node': True, 'start_time': 1715187911, 'status': 'OK', 'status_line': 'v9.2.0; Height: 215, SN: active, proof: 6m11s, storage: 30s, lokinet: 4m43s', 'target': 120, 'target_height': 101, 'testnet': False, 'top_block_hash': '9de4824539d033f4cb211db60314f5c7587e221d3fc0c1c34c3da5bf174274f7', 'tx_count': 12, 'tx_pool_size': 0, 'untrusted': False, 'version': '9.2.0-90039f976', 'was_bootstrap_ever_used': False, 'white_peerlist_size': 10}}\n",
      "{'jsonrpc': '2.0', 'id': '0', 'result': {'alt_blocks_count': 0, 'block_size_limit': 600000, 'block_size_median': 300000, 'block_weight_limit': 600000, 'block_weight_median': 300000, 'cumulative_difficulty': 215, 'database_size': 704512, 'devnet': True, 'difficulty': 1, 'free_space': 32620134400, 'grey_peerlist_size': 5, 'height': 215, 'height_without_bootstrap': 215, 'immutable_block_hash': '', 'immutable_height': 0, 'incoming_connections_count': 5, 'last_lokinet_ping': 1715188128, 'last_storage_server_ping': 1715188394, 'mainnet': False, 'nettype': 'devnet', 'offline': False, 'ons_counts': [0, 0, 0], 'outgoing_connections_count': 5, 'pulse_ideal_timestamp': 1715202037, 'pulse_target_timestamp': 1715188472, 'service_node': True, 'start_time': 1715187915, 'status': 'OK', 'status_line': 'v9.2.0; Height: 215, SN: active, proof: 6m12s, storage: 16s, lokinet: 4m42s', 'target': 120, 'target_height': 91, 'testnet': False, 'top_block_hash': '9de4824539d033f4cb211db60314f5c7587e221d3fc0c1c34c3da5bf174274f7', 'tx_count': 12, 'tx_pool_size': 0, 'untrusted': False, 'version': '9.2.0-90039f976', 'was_bootstrap_ever_used': False, 'white_peerlist_size': 10}}\n",
      "{'jsonrpc': '2.0', 'id': '0', 'result': {'alt_blocks_count': 0, 'block_size_limit': 600000, 'block_size_median': 300000, 'block_weight_limit': 600000, 'block_weight_median': 300000, 'cumulative_difficulty': 215, 'database_size': 704512, 'devnet': True, 'difficulty': 1, 'free_space': 32880836608, 'grey_peerlist_size': 5, 'height': 215, 'height_without_bootstrap': 215, 'immutable_block_hash': '', 'immutable_height': 0, 'incoming_connections_count': 5, 'last_lokinet_ping': 1715188129, 'last_storage_server_ping': 1715188391, 'mainnet': False, 'nettype': 'devnet', 'offline': False, 'ons_counts': [0, 0, 0], 'outgoing_connections_count': 5, 'pulse_ideal_timestamp': 1715202037, 'pulse_target_timestamp': 1715188472, 'service_node': True, 'start_time': 1715187918, 'status': 'OK', 'status_line': 'v9.2.0; Height: 215, SN: active, proof: 6m13s, storage: 20s, lokinet: 4m42s', 'target': 120, 'target_height': 0, 'testnet': False, 'top_block_hash': '9de4824539d033f4cb211db60314f5c7587e221d3fc0c1c34c3da5bf174274f7', 'tx_count': 12, 'tx_pool_size': 0, 'untrusted': False, 'version': '9.2.0-90039f976', 'was_bootstrap_ever_used': False, 'white_peerlist_size': 10}}\n",
      "{'jsonrpc': '2.0', 'id': '0', 'result': {'alt_blocks_count': 0, 'block_size_limit': 600000, 'block_size_median': 300000, 'block_weight_limit': 600000, 'block_weight_median': 300000, 'cumulative_difficulty': 215, 'database_size': 704512, 'devnet': True, 'difficulty': 1, 'free_space': 32772980736, 'grey_peerlist_size': 5, 'height': 215, 'height_without_bootstrap': 215, 'immutable_block_hash': '', 'immutable_height': 0, 'incoming_connections_count': 5, 'last_lokinet_ping': 1715188129, 'last_storage_server_ping': 1715188396, 'mainnet': False, 'nettype': 'devnet', 'offline': False, 'ons_counts': [0, 0, 0], 'outgoing_connections_count': 5, 'pulse_ideal_timestamp': 1715202037, 'pulse_target_timestamp': 1715188472, 'service_node': True, 'start_time': 1715187920, 'status': 'OK', 'status_line': 'v9.2.0; Height: 215, SN: active, proof: 6m13s, storage: 15s, lokinet: 4m42s', 'target': 120, 'target_height': 0, 'testnet': False, 'top_block_hash': '9de4824539d033f4cb211db60314f5c7587e221d3fc0c1c34c3da5bf174274f7', 'tx_count': 12, 'tx_pool_size': 0, 'untrusted': False, 'version': '9.2.0-90039f976', 'was_bootstrap_ever_used': False, 'white_peerlist_size': 10}}\n",
      "{'jsonrpc': '2.0', 'id': '0', 'result': {'alt_blocks_count': 0, 'block_size_limit': 600000, 'block_size_median': 300000, 'block_weight_limit': 600000, 'block_weight_median': 300000, 'cumulative_difficulty': 215, 'database_size': 704512, 'devnet': True, 'difficulty': 1, 'free_space': 32821133312, 'grey_peerlist_size': 5, 'height': 215, 'height_without_bootstrap': 215, 'immutable_block_hash': '', 'immutable_height': 0, 'incoming_connections_count': 5, 'last_lokinet_ping': 1715188130, 'last_storage_server_ping': 1715188386, 'mainnet': False, 'nettype': 'devnet', 'offline': False, 'ons_counts': [0, 0, 0], 'outgoing_connections_count': 5, 'pulse_ideal_timestamp': 1715202037, 'pulse_target_timestamp': 1715188472, 'service_node': True, 'start_time': 1715187922, 'status': 'OK', 'status_line': 'v9.2.0; Height: 215, SN: active, proof: 4m26s, storage: 26s, lokinet: 4m42s', 'target': 120, 'target_height': 101, 'testnet': False, 'top_block_hash': '9de4824539d033f4cb211db60314f5c7587e221d3fc0c1c34c3da5bf174274f7', 'tx_count': 12, 'tx_pool_size': 0, 'untrusted': False, 'version': '9.2.0-90039f976', 'was_bootstrap_ever_used': False, 'white_peerlist_size': 10}}\n",
      "{'jsonrpc': '2.0', 'id': '0', 'result': {'alt_blocks_count': 0, 'block_size_limit': 600000, 'block_size_median': 300000, 'block_weight_limit': 600000, 'block_weight_median': 300000, 'cumulative_difficulty': 215, 'database_size': 704512, 'devnet': True, 'difficulty': 1, 'free_space': 32482422784, 'grey_peerlist_size': 5, 'height': 215, 'height_without_bootstrap': 215, 'immutable_block_hash': '', 'immutable_height': 0, 'incoming_connections_count': 5, 'last_lokinet_ping': 1715188130, 'last_storage_server_ping': 1715188403, 'mainnet': False, 'nettype': 'devnet', 'offline': False, 'ons_counts': [0, 0, 0], 'outgoing_connections_count': 5, 'pulse_ideal_timestamp': 1715202037, 'pulse_target_timestamp': 1715188472, 'service_node': True, 'start_time': 1715187924, 'status': 'OK', 'status_line': 'v9.2.0; Height: 215, SN: active, proof: 4m38s, storage: 9s, lokinet: 4m42s', 'target': 120, 'target_height': 101, 'testnet': False, 'top_block_hash': '9de4824539d033f4cb211db60314f5c7587e221d3fc0c1c34c3da5bf174274f7', 'tx_count': 12, 'tx_pool_size': 0, 'untrusted': False, 'version': '9.2.0-90039f976', 'was_bootstrap_ever_used': False, 'white_peerlist_size': 10}}\n",
      "{'jsonrpc': '2.0', 'id': '0', 'result': {'alt_blocks_count': 0, 'block_size_limit': 600000, 'block_size_median': 300000, 'block_weight_limit': 600000, 'block_weight_median': 300000, 'cumulative_difficulty': 215, 'database_size': 704512, 'devnet': True, 'difficulty': 1, 'free_space': 32880496640, 'grey_peerlist_size': 5, 'height': 215, 'height_without_bootstrap': 215, 'immutable_block_hash': '', 'immutable_height': 0, 'incoming_connections_count': 5, 'last_lokinet_ping': 1715188131, 'last_storage_server_ping': 1715188399, 'mainnet': False, 'nettype': 'devnet', 'offline': False, 'ons_counts': [0, 0, 0], 'outgoing_connections_count': 5, 'pulse_ideal_timestamp': 1715202037, 'pulse_target_timestamp': 1715188472, 'service_node': True, 'start_time': 1715187926, 'status': 'OK', 'status_line': 'v9.2.0; Height: 215, SN: active, proof: 4m11s, storage: 14s, lokinet: 4m42s', 'target': 120, 'target_height': 101, 'testnet': False, 'top_block_hash': '9de4824539d033f4cb211db60314f5c7587e221d3fc0c1c34c3da5bf174274f7', 'tx_count': 12, 'tx_pool_size': 0, 'untrusted': False, 'version': '9.2.0-90039f976', 'was_bootstrap_ever_used': False, 'white_peerlist_size': 10}}\n",
      "{'jsonrpc': '2.0', 'id': '0', 'result': {'alt_blocks_count': 0, 'block_size_limit': 600000, 'block_size_median': 300000, 'block_weight_limit': 600000, 'block_weight_median': 300000, 'cumulative_difficulty': 215, 'database_size': 704512, 'devnet': True, 'difficulty': 1, 'free_space': 32838242304, 'grey_peerlist_size': 5, 'height': 215, 'height_without_bootstrap': 215, 'immutable_block_hash': '', 'immutable_height': 0, 'incoming_connections_count': 5, 'last_lokinet_ping': 1715188132, 'last_storage_server_ping': 1715188412, 'mainnet': False, 'nettype': 'devnet', 'offline': False, 'ons_counts': [0, 0, 0], 'outgoing_connections_count': 5, 'pulse_ideal_timestamp': 1715202037, 'pulse_target_timestamp': 1715188472, 'service_node': True, 'start_time': 1715187928, 'status': 'OK', 'status_line': 'v9.2.0; Height: 215, SN: active, proof: 4m31s, storage: 1s, lokinet: 4m41s', 'target': 120, 'target_height': 101, 'testnet': False, 'top_block_hash': '9de4824539d033f4cb211db60314f5c7587e221d3fc0c1c34c3da5bf174274f7', 'tx_count': 12, 'tx_pool_size': 0, 'untrusted': False, 'version': '9.2.0-90039f976', 'was_bootstrap_ever_used': False, 'white_peerlist_size': 10}}\n",
      "{'jsonrpc': '2.0', 'id': '0', 'result': {'alt_blocks_count': 0, 'block_size_limit': 600000, 'block_size_median': 300000, 'block_weight_limit': 600000, 'block_weight_median': 300000, 'cumulative_difficulty': 215, 'database_size': 704512, 'devnet': True, 'difficulty': 1, 'free_space': 32426045440, 'grey_peerlist_size': 5, 'height': 215, 'height_without_bootstrap': 215, 'immutable_block_hash': '', 'immutable_height': 0, 'incoming_connections_count': 5, 'last_lokinet_ping': 1715188132, 'last_storage_server_ping': 1715188399, 'mainnet': False, 'nettype': 'devnet', 'offline': False, 'ons_counts': [0, 0, 0], 'outgoing_connections_count': 5, 'pulse_ideal_timestamp': 1715202037, 'pulse_target_timestamp': 1715188472, 'service_node': True, 'start_time': 1715187930, 'status': 'OK', 'status_line': 'v9.2.0; Height: 215, SN: active, proof: 4m15s, storage: 15s, lokinet: 4m42s', 'target': 120, 'target_height': 0, 'testnet': False, 'top_block_hash': '9de4824539d033f4cb211db60314f5c7587e221d3fc0c1c34c3da5bf174274f7', 'tx_count': 12, 'tx_pool_size': 0, 'untrusted': False, 'version': '9.2.0-90039f976', 'was_bootstrap_ever_used': False, 'white_peerlist_size': 10}}\n",
      "{'jsonrpc': '2.0', 'id': '0', 'result': {'alt_blocks_count': 0, 'block_size_limit': 600000, 'block_size_median': 300000, 'block_weight_limit': 600000, 'block_weight_median': 300000, 'cumulative_difficulty': 215, 'database_size': 704512, 'devnet': True, 'difficulty': 1, 'free_space': 32660725760, 'grey_peerlist_size': 5, 'height': 215, 'height_without_bootstrap': 215, 'immutable_block_hash': '', 'immutable_height': 0, 'incoming_connections_count': 5, 'last_lokinet_ping': 1715188133, 'last_storage_server_ping': 1715188396, 'mainnet': False, 'nettype': 'devnet', 'offline': False, 'ons_counts': [0, 0, 0], 'outgoing_connections_count': 5, 'pulse_ideal_timestamp': 1715202037, 'pulse_target_timestamp': 1715188472, 'service_node': True, 'start_time': 1715187932, 'status': 'OK', 'status_line': 'v9.2.0; Height: 215, SN: active, proof: 4m11s, storage: 18s, lokinet: 4m41s', 'target': 120, 'target_height': 101, 'testnet': False, 'top_block_hash': '9de4824539d033f4cb211db60314f5c7587e221d3fc0c1c34c3da5bf174274f7', 'tx_count': 12, 'tx_pool_size': 0, 'untrusted': False, 'version': '9.2.0-90039f976', 'was_bootstrap_ever_used': False, 'white_peerlist_size': 10}}\n",
      "{'jsonrpc': '2.0', 'id': '0', 'result': {'alt_blocks_count': 0, 'block_size_limit': 600000, 'block_size_median': 300000, 'block_weight_limit': 600000, 'block_weight_median': 300000, 'cumulative_difficulty': 215, 'database_size': 704512, 'devnet': True, 'difficulty': 1, 'free_space': 31368597504, 'grey_peerlist_size': 5, 'height': 215, 'height_without_bootstrap': 215, 'immutable_block_hash': '', 'immutable_height': 0, 'incoming_connections_count': 5, 'last_lokinet_ping': 1715188133, 'last_storage_server_ping': 1715188414, 'mainnet': False, 'nettype': 'devnet', 'offline': False, 'ons_counts': [0, 0, 0], 'outgoing_connections_count': 5, 'pulse_ideal_timestamp': 1715202037, 'pulse_target_timestamp': 1715188472, 'service_node': True, 'start_time': 1715187934, 'status': 'OK', 'status_line': 'v9.2.0; Height: 215, SN: active, proof: 3m19s, storage: 1s, lokinet: 4m42s', 'target': 120, 'target_height': 0, 'testnet': False, 'top_block_hash': '9de4824539d033f4cb211db60314f5c7587e221d3fc0c1c34c3da5bf174274f7', 'tx_count': 12, 'tx_pool_size': 0, 'untrusted': False, 'version': '9.2.0-90039f976', 'was_bootstrap_ever_used': False, 'white_peerlist_size': 10}}\n",
      "{'jsonrpc': '2.0', 'id': '0', 'result': {'alt_blocks_count': 0, 'block_size_limit': 600000, 'block_size_median': 300000, 'block_weight_limit': 600000, 'block_weight_median': 300000, 'cumulative_difficulty': 215, 'database_size': 704512, 'devnet': True, 'difficulty': 1, 'free_space': 32811339776, 'grey_peerlist_size': 5, 'height': 215, 'height_without_bootstrap': 215, 'immutable_block_hash': '', 'immutable_height': 0, 'incoming_connections_count': 5, 'last_lokinet_ping': 0, 'last_storage_server_ping': 0, 'mainnet': False, 'nettype': 'devnet', 'offline': False, 'ons_counts': [0, 0, 0], 'outgoing_connections_count': 5, 'pulse_ideal_timestamp': 1715202037, 'pulse_target_timestamp': 1715188472, 'service_node': False, 'start_time': 1715187937, 'status': 'OK', 'status_line': 'v9.2.0; Height: 215, SN: no', 'target': 120, 'target_height': 101, 'testnet': False, 'top_block_hash': '9de4824539d033f4cb211db60314f5c7587e221d3fc0c1c34c3da5bf174274f7', 'tx_count': 12, 'tx_pool_size': 0, 'untrusted': False, 'version': '9.2.0-90039f976', 'was_bootstrap_ever_used': False, 'white_peerlist_size': 10}}\n",
      "{'jsonrpc': '2.0', 'id': '0', 'result': {'alt_blocks_count': 0, 'block_size_limit': 600000, 'block_size_median': 300000, 'block_weight_limit': 600000, 'block_weight_median': 300000, 'cumulative_difficulty': 215, 'database_size': 704512, 'devnet': True, 'difficulty': 1, 'free_space': 32861069312, 'grey_peerlist_size': 5, 'height': 215, 'height_without_bootstrap': 215, 'immutable_block_hash': '', 'immutable_height': 0, 'incoming_connections_count': 5, 'last_lokinet_ping': 0, 'last_storage_server_ping': 0, 'mainnet': False, 'nettype': 'devnet', 'offline': False, 'ons_counts': [0, 0, 0], 'outgoing_connections_count': 5, 'pulse_ideal_timestamp': 1715202037, 'pulse_target_timestamp': 1715188472, 'service_node': False, 'start_time': 1715187939, 'status': 'OK', 'status_line': 'v9.2.0; Height: 215, SN: no', 'target': 120, 'target_height': 101, 'testnet': False, 'top_block_hash': '9de4824539d033f4cb211db60314f5c7587e221d3fc0c1c34c3da5bf174274f7', 'tx_count': 12, 'tx_pool_size': 0, 'untrusted': False, 'version': '9.2.0-90039f976', 'was_bootstrap_ever_used': False, 'white_peerlist_size': 10}}\n",
      "{'jsonrpc': '2.0', 'id': '0', 'result': {'alt_blocks_count': 0, 'block_size_limit': 600000, 'block_size_median': 300000, 'block_weight_limit': 600000, 'block_weight_median': 300000, 'cumulative_difficulty': 215, 'database_size': 704512, 'devnet': True, 'difficulty': 1, 'free_space': 32861147136, 'grey_peerlist_size': 5, 'height': 215, 'height_without_bootstrap': 215, 'immutable_block_hash': '', 'immutable_height': 0, 'incoming_connections_count': 5, 'last_lokinet_ping': 0, 'last_storage_server_ping': 0, 'mainnet': False, 'nettype': 'devnet', 'offline': False, 'ons_counts': [0, 0, 0], 'outgoing_connections_count': 5, 'pulse_ideal_timestamp': 1715202037, 'pulse_target_timestamp': 1715188472, 'service_node': False, 'start_time': 1715187941, 'status': 'OK', 'status_line': 'v9.2.0; Height: 215, SN: no', 'target': 120, 'target_height': 0, 'testnet': False, 'top_block_hash': '9de4824539d033f4cb211db60314f5c7587e221d3fc0c1c34c3da5bf174274f7', 'tx_count': 12, 'tx_pool_size': 0, 'untrusted': False, 'version': '9.2.0-90039f976', 'was_bootstrap_ever_used': False, 'white_peerlist_size': 10}}\n"
     ]
    }
   ],
   "source": [
    "for d in snn.all_nodes:\n",
    "    print(d.wait_for_json_rpc(\"get_info\").json())"
   ]
  },
  {
   "cell_type": "code",
   "execution_count": 14,
   "metadata": {},
   "outputs": [
    {
     "data": {
      "text/plain": [
       "{'status': 'Failed, wrong address'}"
      ]
     },
     "execution_count": 14,
     "metadata": {},
     "output_type": "execute_result"
    }
   ],
   "source": [
    "snn.mike.node.mine_blocks(10, snn.mike)\n",
    "snn.mike.node.rpc('/start_mining', {\n",
    "            \"miner_address\": snn.mike.address(),\n",
    "            \"threads_count\": 1,\n",
    "            \"num_blocks\": 1,\n",
    "            \"slow_mining\": True\n",
    "        }).json()"
   ]
  },
  {
   "cell_type": "code",
   "execution_count": 7,
   "metadata": {},
   "outputs": [
    {
     "name": "stdout",
     "output_type": "stream",
     "text": [
      "{'jsonrpc': '2.0', 'id': '0', 'result': {'height': 215, 'next_needed_pruning_seed': 0, 'overview': '[]', 'peers': [{'info': {'address': '23.88.98.217:1000', 'address_type': 1, 'avg_download': 0, 'avg_upload': 0, 'connection_id': 'ee7b5a9aa2ba4437b750b30b2d2d9285', 'current_download': 0, 'current_upload': 0, 'height': 215, 'host': '23.88.98.217', 'incoming': False, 'ip': '23.88.98.217', 'live_time': 532, 'local_ip': False, 'localhost': False, 'peer_id': 'f73f22d42dbae1f1', 'port': '1000', 'pruning_seed': 0, 'recv_count': 222970, 'recv_idle_time': 51, 'rpc_port': 0, 'send_count': 31104, 'send_idle_time': 51, 'state': 'normal', 'support_flags': 1}}, {'info': {'address': '167.235.63.65:1000', 'address_type': 1, 'avg_download': 0, 'avg_upload': 0, 'connection_id': '10b2ac793245435f8f0ee87db191b8d9', 'current_download': 0, 'current_upload': 0, 'height': 215, 'host': '167.235.63.65', 'incoming': False, 'ip': '167.235.63.65', 'live_time': 535, 'local_ip': False, 'localhost': False, 'peer_id': '8a79b8ee7763a667', 'port': '1000', 'pruning_seed': 0, 'recv_count': 216646, 'recv_idle_time': 12, 'rpc_port': 0, 'send_count': 209952, 'send_idle_time': 12, 'state': 'normal', 'support_flags': 1}}, {'info': {'address': '37.27.43.89:1000', 'address_type': 1, 'avg_download': 0, 'avg_upload': 0, 'connection_id': '35982ef1e74746b58cd6c0cbd1dce373', 'current_download': 0, 'current_upload': 0, 'height': 215, 'host': '37.27.43.89', 'incoming': False, 'ip': '37.27.43.89', 'live_time': 536, 'local_ip': False, 'localhost': False, 'peer_id': 'ffb6f64c98793fd3', 'port': '1000', 'pruning_seed': 0, 'recv_count': 216930, 'recv_idle_time': 17, 'rpc_port': 0, 'send_count': 217292, 'send_idle_time': 17, 'state': 'normal', 'support_flags': 1}}, {'info': {'address': '37.27.43.50:1000', 'address_type': 1, 'avg_download': 0, 'avg_upload': 0, 'connection_id': '538336a4daf847d392bb3b99e1267f72', 'current_download': 0, 'current_upload': 0, 'height': 215, 'host': '37.27.43.50', 'incoming': False, 'ip': '37.27.43.50', 'live_time': 536, 'local_ip': False, 'localhost': False, 'peer_id': 'c95f026130590c2c', 'port': '1000', 'pruning_seed': 0, 'recv_count': 106050, 'recv_idle_time': 23, 'rpc_port': 0, 'send_count': 222166, 'send_idle_time': 23, 'state': 'normal', 'support_flags': 1}}, {'info': {'address': '128.140.66.163:50484', 'address_type': 1, 'avg_download': 0, 'avg_upload': 0, 'connection_id': 'dc5f277378844f258d0ab63c52dbdb11', 'current_download': 0, 'current_upload': 0, 'height': 215, 'host': '128.140.66.163', 'incoming': True, 'ip': '128.140.66.163', 'live_time': 536, 'local_ip': False, 'localhost': False, 'peer_id': '7a3448d485ef9d9e', 'port': '50484', 'pruning_seed': 0, 'recv_count': 222010, 'recv_idle_time': 2, 'rpc_port': 0, 'send_count': 213109, 'send_idle_time': 2, 'state': 'normal', 'support_flags': 1}}, {'info': {'address': '49.13.172.214:1000', 'address_type': 1, 'avg_download': 0, 'avg_upload': 0, 'connection_id': '05fac5840e4746a687f0cd6abf6bb6bc', 'current_download': 0, 'current_upload': 0, 'height': 215, 'host': '49.13.172.214', 'incoming': False, 'ip': '49.13.172.214', 'live_time': 535, 'local_ip': False, 'localhost': False, 'peer_id': 'f4b57bca2a823d7f', 'port': '1000', 'pruning_seed': 0, 'recv_count': 100349, 'recv_idle_time': 3, 'rpc_port': 0, 'send_count': 220625, 'send_idle_time': 3, 'state': 'normal', 'support_flags': 1}}, {'info': {'address': '195.201.147.111:52786', 'address_type': 1, 'avg_download': 0, 'avg_upload': 0, 'connection_id': '1e6c6e0527ef4176a82a3d598e68012c', 'current_download': 0, 'current_upload': 0, 'height': 215, 'host': '195.201.147.111', 'incoming': True, 'ip': '195.201.147.111', 'live_time': 536, 'local_ip': False, 'localhost': False, 'peer_id': 'd6272251c8b0e5c9', 'port': '52786', 'pruning_seed': 0, 'recv_count': 210835, 'recv_idle_time': 6, 'rpc_port': 0, 'send_count': 220477, 'send_idle_time': 6, 'state': 'normal', 'support_flags': 1}}, {'info': {'address': '65.21.6.216:42872', 'address_type': 1, 'avg_download': 0, 'avg_upload': 0, 'connection_id': '0579e3f25d2a458eabdba70659032f44', 'current_download': 0, 'current_upload': 0, 'height': 215, 'host': '65.21.6.216', 'incoming': True, 'ip': '65.21.6.216', 'live_time': 536, 'local_ip': False, 'localhost': False, 'peer_id': '5b81cf58a9a3bae7', 'port': '42872', 'pruning_seed': 0, 'recv_count': 206968, 'recv_idle_time': 20, 'rpc_port': 0, 'send_count': 220814, 'send_idle_time': 20, 'state': 'normal', 'support_flags': 1}}, {'info': {'address': '116.203.41.114:45746', 'address_type': 1, 'avg_download': 0, 'avg_upload': 0, 'connection_id': '5c8098721b0e4e13a06d3431af53169f', 'current_download': 0, 'current_upload': 0, 'height': 215, 'host': '116.203.41.114', 'incoming': True, 'ip': '116.203.41.114', 'live_time': 536, 'local_ip': False, 'localhost': False, 'peer_id': '5964d373af1757a3', 'port': '45746', 'pruning_seed': 0, 'recv_count': 204934, 'recv_idle_time': 55, 'rpc_port': 0, 'send_count': 223338, 'send_idle_time': 55, 'state': 'normal', 'support_flags': 1}}, {'info': {'address': '5.75.171.41:56510', 'address_type': 1, 'avg_download': 0, 'avg_upload': 0, 'connection_id': '16817269ef904460b45815b78ac39f22', 'current_download': 0, 'current_upload': 0, 'height': 215, 'host': '5.75.171.41', 'incoming': True, 'ip': '5.75.171.41', 'live_time': 536, 'local_ip': False, 'localhost': False, 'peer_id': '31c051e838b43133', 'port': '56510', 'pruning_seed': 0, 'recv_count': 122918, 'recv_idle_time': 10, 'rpc_port': 0, 'send_count': 220793, 'send_idle_time': 10, 'state': 'normal', 'support_flags': 1}}], 'status': 'OK', 'target_height': 101}}\n",
      "{'jsonrpc': '2.0', 'id': '0', 'result': {'height': 215, 'next_needed_pruning_seed': 0, 'overview': '[]', 'peers': [{'info': {'address': '128.140.66.163:1000', 'address_type': 1, 'avg_download': 0, 'avg_upload': 0, 'connection_id': 'db0422574b2a46fa9d24c31051dec89d', 'current_download': 0, 'current_upload': 0, 'height': 215, 'host': '128.140.66.163', 'incoming': False, 'ip': '128.140.66.163', 'live_time': 534, 'local_ip': False, 'localhost': False, 'peer_id': '7a3448d485ef9d9e', 'port': '1000', 'pruning_seed': 0, 'recv_count': 224394, 'recv_idle_time': 2, 'rpc_port': 0, 'send_count': 128750, 'send_idle_time': 2, 'state': 'normal', 'support_flags': 1}}, {'info': {'address': '37.27.43.85:1000', 'address_type': 1, 'avg_download': 0, 'avg_upload': 0, 'connection_id': 'e574fbd4281c488ea2abd464f47a51d9', 'current_download': 0, 'current_upload': 0, 'height': 215, 'host': '37.27.43.85', 'incoming': False, 'ip': '37.27.43.85', 'live_time': 534, 'local_ip': False, 'localhost': False, 'peer_id': 'a7beb04b3688f5bf', 'port': '1000', 'pruning_seed': 0, 'recv_count': 223338, 'recv_idle_time': 14, 'rpc_port': 0, 'send_count': 205120, 'send_idle_time': 14, 'state': 'normal', 'support_flags': 1}}, {'info': {'address': '65.21.6.216:1000', 'address_type': 1, 'avg_download': 0, 'avg_upload': 0, 'connection_id': '7e681902973e4268a57225bfef45e4a8', 'current_download': 0, 'current_upload': 0, 'height': 215, 'host': '65.21.6.216', 'incoming': False, 'ip': '65.21.6.216', 'live_time': 534, 'local_ip': False, 'localhost': False, 'peer_id': '5b81cf58a9a3bae7', 'port': '1000', 'pruning_seed': 0, 'recv_count': 215329, 'recv_idle_time': 20, 'rpc_port': 0, 'send_count': 208964, 'send_idle_time': 20, 'state': 'normal', 'support_flags': 1}}, {'info': {'address': '116.203.41.114:56864', 'address_type': 1, 'avg_download': 0, 'avg_upload': 0, 'connection_id': '3b059c836751472aa1fb79532e881437', 'current_download': 0, 'current_upload': 0, 'height': 215, 'host': '116.203.41.114', 'incoming': True, 'ip': '116.203.41.114', 'live_time': 534, 'local_ip': False, 'localhost': False, 'peer_id': '5964d373af1757a3', 'port': '56864', 'pruning_seed': 0, 'recv_count': 221435, 'recv_idle_time': 0, 'rpc_port': 0, 'send_count': 139110, 'send_idle_time': 0, 'state': 'normal', 'support_flags': 1}}, {'info': {'address': '49.13.172.214:47072', 'address_type': 1, 'avg_download': 0, 'avg_upload': 0, 'connection_id': '840d0ee6b7564b27af379e3f69f746d8', 'current_download': 0, 'current_upload': 0, 'height': 215, 'host': '49.13.172.214', 'incoming': True, 'ip': '49.13.172.214', 'live_time': 534, 'local_ip': False, 'localhost': False, 'peer_id': 'f4b57bca2a823d7f', 'port': '47072', 'pruning_seed': 0, 'recv_count': 209465, 'recv_idle_time': 4, 'rpc_port': 0, 'send_count': 208260, 'send_idle_time': 4, 'state': 'normal', 'support_flags': 1}}, {'info': {'address': '5.75.171.41:1000', 'address_type': 1, 'avg_download': 0, 'avg_upload': 0, 'connection_id': '159bf79fce99426abc1ff63a21595e1a', 'current_download': 0, 'current_upload': 0, 'height': 215, 'host': '5.75.171.41', 'incoming': False, 'ip': '5.75.171.41', 'live_time': 534, 'local_ip': False, 'localhost': False, 'peer_id': '31c051e838b43133', 'port': '1000', 'pruning_seed': 0, 'recv_count': 210011, 'recv_idle_time': 10, 'rpc_port': 0, 'send_count': 208424, 'send_idle_time': 10, 'state': 'normal', 'support_flags': 1}}, {'info': {'address': '37.27.43.50:1000', 'address_type': 1, 'avg_download': 0, 'avg_upload': 0, 'connection_id': 'd6ee61543e0249049d9be78e8ec05661', 'current_download': 0, 'current_upload': 0, 'height': 215, 'host': '37.27.43.50', 'incoming': False, 'ip': '37.27.43.50', 'live_time': 534, 'local_ip': False, 'localhost': False, 'peer_id': 'c95f026130590c2c', 'port': '1000', 'pruning_seed': 0, 'recv_count': 207975, 'recv_idle_time': 23, 'rpc_port': 0, 'send_count': 209699, 'send_idle_time': 23, 'state': 'normal', 'support_flags': 1}}, {'info': {'address': '37.27.43.89:45278', 'address_type': 1, 'avg_download': 0, 'avg_upload': 0, 'connection_id': '9319f645fb17481eba85bffbdc2eee21', 'current_download': 0, 'current_upload': 0, 'height': 215, 'host': '37.27.43.89', 'incoming': True, 'ip': '37.27.43.89', 'live_time': 535, 'local_ip': False, 'localhost': False, 'peer_id': 'ffb6f64c98793fd3', 'port': '45278', 'pruning_seed': 0, 'recv_count': 223506, 'recv_idle_time': 17, 'rpc_port': 0, 'send_count': 204913, 'send_idle_time': 17, 'state': 'normal', 'support_flags': 1}}, {'info': {'address': '116.203.49.0:50528', 'address_type': 1, 'avg_download': 0, 'avg_upload': 0, 'connection_id': '6547337f261946789032c3dc401e5516', 'current_download': 0, 'current_upload': 0, 'height': 215, 'host': '116.203.49.0', 'incoming': True, 'ip': '116.203.49.0', 'live_time': 535, 'local_ip': False, 'localhost': False, 'peer_id': '9b5e6fc74007b8a3', 'port': '50528', 'pruning_seed': 0, 'recv_count': 222991, 'recv_idle_time': 53, 'rpc_port': 0, 'send_count': 197891, 'send_idle_time': 53, 'state': 'normal', 'support_flags': 1}}, {'info': {'address': '116.203.68.186:40980', 'address_type': 1, 'avg_download': 0, 'avg_upload': 0, 'connection_id': '81dea4422ad34e0f898f1e50902d6e39', 'current_download': 0, 'current_upload': 0, 'height': 215, 'host': '116.203.68.186', 'incoming': True, 'ip': '116.203.68.186', 'live_time': 535, 'local_ip': False, 'localhost': False, 'peer_id': 'cdb8817938e8419a', 'port': '40980', 'pruning_seed': 0, 'recv_count': 220911, 'recv_idle_time': 9, 'rpc_port': 0, 'send_count': 204586, 'send_idle_time': 9, 'state': 'normal', 'support_flags': 1}}], 'status': 'OK', 'target_height': 101}}\n",
      "{'jsonrpc': '2.0', 'id': '0', 'result': {'height': 216, 'next_needed_pruning_seed': 2, 'overview': '[]', 'peers': [{'info': {'address': '116.203.41.114:1000', 'address_type': 1, 'avg_download': 0, 'avg_upload': 0, 'connection_id': '04d82fc9b8d94436bb5bea7385e866a5', 'current_download': 0, 'current_upload': 0, 'height': 215, 'host': '116.203.41.114', 'incoming': False, 'ip': '116.203.41.114', 'live_time': 533, 'local_ip': False, 'localhost': False, 'peer_id': '5964d373af1757a3', 'port': '1000', 'pruning_seed': 0, 'recv_count': 39748, 'recv_idle_time': 1, 'rpc_port': 0, 'send_count': 222970, 'send_idle_time': 0, 'state': 'normal', 'support_flags': 1}}, {'info': {'address': '167.235.63.65:1000', 'address_type': 1, 'avg_download': 0, 'avg_upload': 0, 'connection_id': 'b19aa96a1c324147b7384838b90cb4a2', 'current_download': 0, 'current_upload': 0, 'height': 215, 'host': '167.235.63.65', 'incoming': False, 'ip': '167.235.63.65', 'live_time': 533, 'local_ip': False, 'localhost': False, 'peer_id': '8a79b8ee7763a667', 'port': '1000', 'pruning_seed': 0, 'recv_count': 21681, 'recv_idle_time': 0, 'rpc_port': 0, 'send_count': 223751, 'send_idle_time': 0, 'state': 'normal', 'support_flags': 1}}, {'info': {'address': '37.27.43.89:1000', 'address_type': 1, 'avg_download': 0, 'avg_upload': 0, 'connection_id': '436f5c64d529470495aedf98049cb4f9', 'current_download': 0, 'current_upload': 0, 'height': 215, 'host': '37.27.43.89', 'incoming': False, 'ip': '37.27.43.89', 'live_time': 533, 'local_ip': False, 'localhost': False, 'peer_id': 'ffb6f64c98793fd3', 'port': '1000', 'pruning_seed': 0, 'recv_count': 53382, 'recv_idle_time': 0, 'rpc_port': 0, 'send_count': 223751, 'send_idle_time': 0, 'state': 'normal', 'support_flags': 1}}, {'info': {'address': '128.140.66.163:40694', 'address_type': 1, 'avg_download': 0, 'avg_upload': 0, 'connection_id': '60b23eb53f734e6f96971ee243b20ee9', 'current_download': 0, 'current_upload': 0, 'height': 215, 'host': '128.140.66.163', 'incoming': True, 'ip': '128.140.66.163', 'live_time': 533, 'local_ip': False, 'localhost': False, 'peer_id': '7a3448d485ef9d9e', 'port': '40694', 'pruning_seed': 0, 'recv_count': 38845, 'recv_idle_time': 0, 'rpc_port': 0, 'send_count': 223940, 'send_idle_time': 0, 'state': 'normal', 'support_flags': 1}}, {'info': {'address': '37.27.43.85:49318', 'address_type': 1, 'avg_download': 0, 'avg_upload': 0, 'connection_id': '1ac8031fd37a4894bd276644206aa604', 'current_download': 0, 'current_upload': 0, 'height': 215, 'host': '37.27.43.85', 'incoming': True, 'ip': '37.27.43.85', 'live_time': 533, 'local_ip': False, 'localhost': False, 'peer_id': 'a7beb04b3688f5bf', 'port': '49318', 'pruning_seed': 0, 'recv_count': 12566, 'recv_idle_time': 0, 'rpc_port': 0, 'send_count': 223940, 'send_idle_time': 0, 'state': 'normal', 'support_flags': 1}}, {'info': {'address': '65.21.6.216:1000', 'address_type': 1, 'avg_download': 0, 'avg_upload': 0, 'connection_id': 'ebc7616cbb734b22a858885ede92e00d', 'current_download': 0, 'current_upload': 0, 'height': 215, 'host': '65.21.6.216', 'incoming': False, 'ip': '65.21.6.216', 'live_time': 533, 'local_ip': False, 'localhost': False, 'peer_id': '5b81cf58a9a3bae7', 'port': '1000', 'pruning_seed': 0, 'recv_count': 61277, 'recv_idle_time': 0, 'rpc_port': 0, 'send_count': 223751, 'send_idle_time': 0, 'state': 'normal', 'support_flags': 1}}, {'info': {'address': '195.201.147.111:53910', 'address_type': 1, 'avg_download': 0, 'avg_upload': 0, 'connection_id': 'f1ee756bdfaa4092bd644a3f48bd1d94', 'current_download': 0, 'current_upload': 0, 'height': 215, 'host': '195.201.147.111', 'incoming': True, 'ip': '195.201.147.111', 'live_time': 533, 'local_ip': False, 'localhost': False, 'peer_id': 'd6272251c8b0e5c9', 'port': '53910', 'pruning_seed': 0, 'recv_count': 53902, 'recv_idle_time': 0, 'rpc_port': 0, 'send_count': 223940, 'send_idle_time': 0, 'state': 'normal', 'support_flags': 1}}, {'info': {'address': '116.203.49.0:58544', 'address_type': 1, 'avg_download': 0, 'avg_upload': 0, 'connection_id': '4c313cbc8bd04e4aadfd085972c6d021', 'current_download': 0, 'current_upload': 0, 'height': 215, 'host': '116.203.49.0', 'incoming': True, 'ip': '116.203.49.0', 'live_time': 533, 'local_ip': False, 'localhost': False, 'peer_id': '9b5e6fc74007b8a3', 'port': '58544', 'pruning_seed': 0, 'recv_count': 34916, 'recv_idle_time': 0, 'rpc_port': 0, 'send_count': 222991, 'send_idle_time': 52, 'state': 'normal', 'support_flags': 1}}, {'info': {'address': '116.203.68.186:1000', 'address_type': 1, 'avg_download': 0, 'avg_upload': 0, 'connection_id': 'bf4fbd58aae34781ac1da9c58bbef569', 'current_download': 0, 'current_upload': 0, 'height': 215, 'host': '116.203.68.186', 'incoming': False, 'ip': '116.203.68.186', 'live_time': 533, 'local_ip': False, 'localhost': False, 'peer_id': 'cdb8817938e8419a', 'port': '1000', 'pruning_seed': 0, 'recv_count': 58375, 'recv_idle_time': 0, 'rpc_port': 0, 'send_count': 223751, 'send_idle_time': 0, 'state': 'normal', 'support_flags': 1}}, {'info': {'address': '49.13.199.194:53592', 'address_type': 1, 'avg_download': 0, 'avg_upload': 0, 'connection_id': '29d9848c937e418eabb0308af8eb9acf', 'current_download': 0, 'current_upload': 0, 'height': 215, 'host': '49.13.199.194', 'incoming': True, 'ip': '49.13.199.194', 'live_time': 534, 'local_ip': False, 'localhost': False, 'peer_id': '9a14cb22ee0d364e', 'port': '53592', 'pruning_seed': 0, 'recv_count': 31885, 'recv_idle_time': 0, 'rpc_port': 0, 'send_count': 223751, 'send_idle_time': 0, 'state': 'normal', 'support_flags': 1}}], 'status': 'OK', 'target_height': 0}}\n"
     ]
    }
   ],
   "source": [
    "for n in snn.nodes:\n",
    "    print(n.json_rpc(\"sync_info\").json())\n",
    "# for n in ss.all_nodes:\n",
    "#     print(n.json_rpc(\"hard_fork_info\").json()['result']['status'])\n",
    "# for idx,n in enumerate(ss.all_nodes):\n",
    "#     print(idx,n.json_rpc(\"get_service_node_status\").json())"
   ]
  },
  {
   "cell_type": "markdown",
   "metadata": {},
   "source": []
  },
  {
   "cell_type": "code",
   "execution_count": 8,
   "metadata": {},
   "outputs": [
    {
     "data": {
      "text/plain": [
       "{'jsonrpc': '2.0',\n",
       " 'id': '0',\n",
       " 'result': {'service_node_states': [{'last_uptime_proof': 1715188216,\n",
       "    'quorumnet_port': 1003,\n",
       "    'registration_height': 213,\n",
       "    'swarm_id': 0},\n",
       "   {'last_uptime_proof': 1715188146,\n",
       "    'quorumnet_port': 1003,\n",
       "    'registration_height': 173,\n",
       "    'swarm_id': 0},\n",
       "   {'last_uptime_proof': 1715188142,\n",
       "    'quorumnet_port': 1003,\n",
       "    'registration_height': 173,\n",
       "    'swarm_id': 0},\n",
       "   {'last_uptime_proof': 1715188163,\n",
       "    'quorumnet_port': 1003,\n",
       "    'registration_height': 173,\n",
       "    'swarm_id': 0},\n",
       "   {'last_uptime_proof': 1715188134,\n",
       "    'quorumnet_port': 1003,\n",
       "    'registration_height': 173,\n",
       "    'swarm_id': 0},\n",
       "   {'last_uptime_proof': 1715188162,\n",
       "    'quorumnet_port': 1003,\n",
       "    'registration_height': 173,\n",
       "    'swarm_id': 0},\n",
       "   {'last_uptime_proof': 1715188159,\n",
       "    'quorumnet_port': 1003,\n",
       "    'registration_height': 173,\n",
       "    'swarm_id': 0},\n",
       "   {'last_uptime_proof': 1715188038,\n",
       "    'quorumnet_port': 1003,\n",
       "    'registration_height': 101,\n",
       "    'swarm_id': 0},\n",
       "   {'last_uptime_proof': 1715188038,\n",
       "    'quorumnet_port': 1003,\n",
       "    'registration_height': 101,\n",
       "    'swarm_id': 0},\n",
       "   {'last_uptime_proof': 1715188038,\n",
       "    'quorumnet_port': 1003,\n",
       "    'registration_height': 101,\n",
       "    'swarm_id': 0},\n",
       "   {'last_uptime_proof': 1715188039,\n",
       "    'quorumnet_port': 1003,\n",
       "    'registration_height': 101,\n",
       "    'swarm_id': 0},\n",
       "   {'last_uptime_proof': 1715188038,\n",
       "    'quorumnet_port': 1003,\n",
       "    'registration_height': 101,\n",
       "    'swarm_id': 0}],\n",
       "  'status': 'OK'}}"
      ]
     },
     "execution_count": 8,
     "metadata": {},
     "output_type": "execute_result"
    }
   ],
   "source": [
    "snn.nodes[0].json_rpc(\"get_all_service_nodes\",\n",
    "                     {\"fields\":{\"quorumnet_port\":True,\n",
    "                                \"registration_height\":True,\n",
    "                                \"last_uptime_proof\": True,\n",
    "                                \"swarm_id\": True,\n",
    "                                }}).json()"
   ]
  },
  {
   "cell_type": "code",
   "execution_count": null,
   "metadata": {},
   "outputs": [],
   "source": []
  },
  {
   "cell_type": "code",
   "execution_count": 11,
   "metadata": {},
   "outputs": [
    {
     "name": "stderr",
     "output_type": "stream",
     "text": [
      "/home/pouya/projects/sarbazi/oxen-orchestrator/.venv/lib/python3.10/site-packages/urllib3/connectionpool.py:1099: InsecureRequestWarning: Unverified HTTPS request is being made to host '37.27.43.89'. Adding certificate verification is strongly advised. See: https://urllib3.readthedocs.io/en/latest/advanced-usage.html#tls-warnings\n",
      "  warnings.warn(\n"
     ]
    },
    {
     "data": {
      "text/plain": [
       "b'Error parsing onion request: Unexpected payload size 74, expected >= 1936335483'"
      ]
     },
     "execution_count": 11,
     "metadata": {},
     "output_type": "execute_result"
    }
   ],
   "source": [
    "import requests\n",
    "def json_rpc_https(self, method, params=None, *, timeout=10):\n",
    "    \"\"\"Sends a json_rpc request to the rpc port.  Returns the response object.\"\"\"\n",
    "    json = {\n",
    "            \"jsonrpc\": \"2.0\",\n",
    "            \"id\": \"0\",\n",
    "            \"method\": method,\n",
    "            }\n",
    "    json[\"params\"] ={}\n",
    "    if params:\n",
    "        json[\"params\"] = params\n",
    "\n",
    "    return requests.post('https://{}:{}/onion_req/v2'.format(self.listen_ip, self.rpc_port), verify=False, json=json, timeout=timeout)\n",
    "\n",
    "json_rpc_https(snn.ss[2],\"get_snodes_for_pubkey\",None).content\n",
    "# storage_services[0].rpc_port"
   ]
  },
  {
   "cell_type": "code",
   "execution_count": 20,
   "metadata": {},
   "outputs": [],
   "source": [
    "for sn in ss.sns:\n",
    "    sn.ping()"
   ]
  },
  {
   "cell_type": "code",
   "execution_count": null,
   "metadata": {},
   "outputs": [],
   "source": []
  }
 ],
 "metadata": {
  "kernelspec": {
   "display_name": ".venv",
   "language": "python",
   "name": "python3"
  },
  "language_info": {
   "codemirror_mode": {
    "name": "ipython",
    "version": 3
   },
   "file_extension": ".py",
   "mimetype": "text/x-python",
   "name": "python",
   "nbconvert_exporter": "python",
   "pygments_lexer": "ipython3",
   "version": "3.10.12"
  }
 },
 "nbformat": 4,
 "nbformat_minor": 2
}
